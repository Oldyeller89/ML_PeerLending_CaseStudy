{
 "cells": [
  {
   "cell_type": "markdown",
   "metadata": {},
   "source": [
    "# Phase 1 - Ingestion and Cleaning\n",
    "\n",
    "In the Phase 2 of the Case Study, we will carry out the following steps:\n",
    "  - Ingest raw downloaded data\n",
    "  - Output a combined dataset ready for analysis and modeling"
   ]
  },
  {
   "cell_type": "code",
   "execution_count": 1,
   "metadata": {},
   "outputs": [],
   "source": [
    "import pandas as pd\n",
    "import os\n",
    "from sys import platform\n",
    "import matplotlib.pyplot as plt\n",
    "import datetime\n",
    "import numpy as np\n",
    "import pickle\n",
    "import seaborn"
   ]
  },
  {
   "cell_type": "code",
   "execution_count": 2,
   "metadata": {},
   "outputs": [],
   "source": [
    "# A helper function that you'll be using while reading the raw files\n",
    "def is_integer(x):\n",
    "    '''\n",
    "    This function returns True if x is an integer, and False otherwise\n",
    "    '''\n",
    "    try:\n",
    "        return (int(x) == float(x))\n",
    "    except:\n",
    "        return False"
   ]
  },
  {
   "cell_type": "markdown",
   "metadata": {},
   "source": [
    "## Parameters"
   ]
  },
  {
   "cell_type": "code",
   "execution_count": 3,
   "metadata": {},
   "outputs": [],
   "source": [
    "# Define the directories that contain the files downloaded\n",
    "dir_cs = \"/case_study_data.zip\" # path to the directory where all the *.csv.zip files are located\n",
    "\n",
    "# Define the output path for the pickle\n",
    "pickle_file = \"loanData/\" + \"clean_data.pickle\" # path to save cleaned data"
   ]
  },
  {
   "cell_type": "code",
   "execution_count": 4,
   "metadata": {},
   "outputs": [],
   "source": [
    "# Identify the columns we'll be keeping from the dataset\n",
    "# list of features to use for this study as indicated in the handout\n",
    "cols_to_pick = [\"id\", \"loan_amnt\", \"funded_amnt\", \"term\", \"int_rate\", \"installment\", \"grade\", \"emp_length\", \\\n",
    "                \"home_ownership\", \"annual_inc\", \"verification_status\", \"issue_d\", \"loan_status\", \"purpose\", \\\n",
    "                \"dti\", \"delinq_2yrs\", \"earliest_cr_line\", \"open_acc\", \"pub_rec\",\"fico_range_high\", \"fico_range_low\", \\\n",
    "                \"revol_bal\", \"revol_util\", \"total_pymnt\", \"last_pymnt_d\", \"recoveries\"] \n",
    "\n",
    "# Identify the type of each of these column based on your CS-Phase 1 response\n",
    "float_cols = [\"loan_amnt\", \"funded_amnt\", \"installment\", \"annual_inc\", \"dti\", \"delinq_2yrs\", \"open_acc\", \"pub_rec\", \\\n",
    "              \"fico_range_high\", \"fico_range_low\", \"revol_bal\", \"total_pymnt\", \"recoveries\"]\n",
    "cat_cols = [\"term\", \"grade\", \"emp_length\", \"home_ownership\", \"verification_status\", \"loan_status\", \"purpose\"] # categorical features\n",
    "perc_cols = ['int_rate', 'revol_util']\n",
    "date_cols = ['issue_d', 'earliest_cr_line', 'last_pymnt_d']\n",
    "\n",
    "# Ensure that we have types for every column\n",
    "assert set(cols_to_pick) - set(float_cols) - set(cat_cols) - set(perc_cols) - set(date_cols) == set([\"id\"])"
   ]
  },
  {
   "cell_type": "code",
   "execution_count": 85,
   "metadata": {},
   "outputs": [],
   "source": [
    "# Some of the columns selected will not be used directly in the model,\n",
    "# but will be used to generate other features.\n",
    "#\n",
    "# Create variables specifying the features that will be used\n",
    "\n",
    "# All categorical columns other than \"loan_status\" will be used as\n",
    "# discrete features\n",
    "\n",
    "discrete_features = list(set(cat_cols) - set([\"loan_status\"]))\n",
    "\n",
    "# All numeric columns will be used as continuous features\n",
    "continuous_features = list(float_cols + perc_cols)"
   ]
  },
  {
   "cell_type": "markdown",
   "metadata": {},
   "source": [
    "## Ingestion\n",
    "Ingest the data files from both sets, perform consistency checks, and prepare one single file for each set"
   ]
  },
  {
   "cell_type": "code",
   "execution_count": 6,
   "metadata": {},
   "outputs": [],
   "source": [
    "import glob\n",
    "\n",
    "def ingest_files(directory):\n",
    "    '''\n",
    "    This function will ingest every file in the specified directory\n",
    "    into a pandas dataframe. It will return a dictionary containing\n",
    "    these dataframes, keyed by the file name.\n",
    "    \n",
    "    We assume the directory contains files directly downloaded from\n",
    "    the link given in the handout, and *only* those files. Thus, we \n",
    "    assume the files are zipped (pd.read_csv can read zipped files) \n",
    "    and we assume the first line in each file needs to be skipped.\n",
    "    \n",
    "    Note that each file will be read *without* formatting\n",
    "    '''\n",
    "    \n",
    "    # If the directory has no trailing slash, add one\n",
    "    if directory[-1] != \"/\":\n",
    "        directory += \"/\"\n",
    "    \n",
    "    all_files = glob.glob(directory+\"*.zip\") # get list of all files from the directory\n",
    "    output = {}\n",
    "    \n",
    "    print(\"Directory \" + directory + \" has \" + str(len(all_files)) + \" files:\")\n",
    "    for i in all_files:\n",
    "        print(\"    Reading file \" + i)\n",
    "        output[i] = pd.read_csv(i, dtype='str', skiprows=1) # read each with dtype='str' and skip_rows =1\n",
    "        \n",
    "        # Some of the files have \"summary\" lines that, for example\n",
    "        # read \"Total number of loans number in Policy 1: .....\"\n",
    "        # To remove those lines, find any lines with non-integer IDs\n",
    "        # and remove them\n",
    "        invalid_rows = [not is_integer(r) for r in output[i]['id']] # mask rows that have non-integer IDs. Use is_integer method\n",
    "       \n",
    "        if sum(invalid_rows) > 0:\n",
    "            print(\"Found \" + str(sum(invalid_rows)) + \" invalid rows which were removed\")\n",
    "            output[i] = output[i][np.logical_not(invalid_rows)] # remove invalid rows\n",
    "    \n",
    "    return output # return dictionary of dataframe"
   ]
  },
  {
   "cell_type": "code",
   "execution_count": 7,
   "metadata": {},
   "outputs": [
    {
     "name": "stdout",
     "output_type": "stream",
     "text": [
      "Directory case_study_data/1805_download/ has 12 files:\n",
      "    Reading file case_study_data/1805_download\\LoanStats3a_securev1.csv.zip\n",
      "Found 3 invalid rows which were removed\n",
      "    Reading file case_study_data/1805_download\\LoanStats3b_securev1.csv.zip\n",
      "Found 2 invalid rows which were removed\n",
      "    Reading file case_study_data/1805_download\\LoanStats3c_securev1.csv.zip\n",
      "Found 2 invalid rows which were removed\n",
      "    Reading file case_study_data/1805_download\\LoanStats3d_securev1.csv.zip\n",
      "Found 2 invalid rows which were removed\n",
      "    Reading file case_study_data/1805_download\\LoanStats_securev1_2016Q1.csv.zip\n",
      "Found 2 invalid rows which were removed\n",
      "    Reading file case_study_data/1805_download\\LoanStats_securev1_2016Q2.csv.zip\n",
      "Found 2 invalid rows which were removed\n",
      "    Reading file case_study_data/1805_download\\LoanStats_securev1_2016Q3.csv.zip\n",
      "Found 2 invalid rows which were removed\n",
      "    Reading file case_study_data/1805_download\\LoanStats_securev1_2016Q4.csv.zip\n",
      "Found 2 invalid rows which were removed\n",
      "    Reading file case_study_data/1805_download\\LoanStats_securev1_2017Q1.csv.zip\n",
      "Found 2 invalid rows which were removed\n",
      "    Reading file case_study_data/1805_download\\LoanStats_securev1_2017Q2.csv.zip\n",
      "Found 2 invalid rows which were removed\n",
      "    Reading file case_study_data/1805_download\\LoanStats_securev1_2017Q3.csv.zip\n",
      "Found 2 invalid rows which were removed\n",
      "    Reading file case_study_data/1805_download\\LoanStats_securev1_2017Q4.csv.zip\n",
      "Found 2 invalid rows which were removed\n"
     ]
    }
   ],
   "source": [
    "# Ingest the set of files we downloaded using the defined method \"ingest_files\"\n",
    "files_cs = ingest_files(\"case_study_data/1805_download\") # dictionary of (filename, dataframe) as (key, value)"
   ]
  },
  {
   "cell_type": "markdown",
   "metadata": {},
   "source": [
    "### Combine the files"
   ]
  },
  {
   "cell_type": "code",
   "execution_count": 8,
   "metadata": {},
   "outputs": [
    {
     "data": {
      "text/html": [
       "<div>\n",
       "<style scoped>\n",
       "    .dataframe tbody tr th:only-of-type {\n",
       "        vertical-align: middle;\n",
       "    }\n",
       "\n",
       "    .dataframe tbody tr th {\n",
       "        vertical-align: top;\n",
       "    }\n",
       "\n",
       "    .dataframe thead th {\n",
       "        text-align: right;\n",
       "    }\n",
       "</style>\n",
       "<table border=\"1\" class=\"dataframe\">\n",
       "  <thead>\n",
       "    <tr style=\"text-align: right;\">\n",
       "      <th></th>\n",
       "      <th>id</th>\n",
       "      <th>member_id</th>\n",
       "      <th>loan_amnt</th>\n",
       "      <th>funded_amnt</th>\n",
       "      <th>funded_amnt_inv</th>\n",
       "      <th>term</th>\n",
       "      <th>int_rate</th>\n",
       "      <th>installment</th>\n",
       "      <th>grade</th>\n",
       "      <th>sub_grade</th>\n",
       "      <th>...</th>\n",
       "      <th>hardship_payoff_balance_amount</th>\n",
       "      <th>hardship_last_payment_amount</th>\n",
       "      <th>disbursement_method</th>\n",
       "      <th>debt_settlement_flag</th>\n",
       "      <th>debt_settlement_flag_date</th>\n",
       "      <th>settlement_status</th>\n",
       "      <th>settlement_date</th>\n",
       "      <th>settlement_amount</th>\n",
       "      <th>settlement_percentage</th>\n",
       "      <th>settlement_term</th>\n",
       "    </tr>\n",
       "  </thead>\n",
       "  <tbody>\n",
       "    <tr>\n",
       "      <th>0</th>\n",
       "      <td>1077501</td>\n",
       "      <td>NaN</td>\n",
       "      <td>5000</td>\n",
       "      <td>5000</td>\n",
       "      <td>4975</td>\n",
       "      <td>36 months</td>\n",
       "      <td>10.65%</td>\n",
       "      <td>162.87</td>\n",
       "      <td>B</td>\n",
       "      <td>B2</td>\n",
       "      <td>...</td>\n",
       "      <td>NaN</td>\n",
       "      <td>NaN</td>\n",
       "      <td>Cash</td>\n",
       "      <td>N</td>\n",
       "      <td>NaN</td>\n",
       "      <td>NaN</td>\n",
       "      <td>NaN</td>\n",
       "      <td>NaN</td>\n",
       "      <td>NaN</td>\n",
       "      <td>NaN</td>\n",
       "    </tr>\n",
       "    <tr>\n",
       "      <th>1</th>\n",
       "      <td>1077430</td>\n",
       "      <td>NaN</td>\n",
       "      <td>2500</td>\n",
       "      <td>2500</td>\n",
       "      <td>2500</td>\n",
       "      <td>60 months</td>\n",
       "      <td>15.27%</td>\n",
       "      <td>59.83</td>\n",
       "      <td>C</td>\n",
       "      <td>C4</td>\n",
       "      <td>...</td>\n",
       "      <td>NaN</td>\n",
       "      <td>NaN</td>\n",
       "      <td>Cash</td>\n",
       "      <td>N</td>\n",
       "      <td>NaN</td>\n",
       "      <td>NaN</td>\n",
       "      <td>NaN</td>\n",
       "      <td>NaN</td>\n",
       "      <td>NaN</td>\n",
       "      <td>NaN</td>\n",
       "    </tr>\n",
       "    <tr>\n",
       "      <th>2</th>\n",
       "      <td>1077175</td>\n",
       "      <td>NaN</td>\n",
       "      <td>2400</td>\n",
       "      <td>2400</td>\n",
       "      <td>2400</td>\n",
       "      <td>36 months</td>\n",
       "      <td>15.96%</td>\n",
       "      <td>84.33</td>\n",
       "      <td>C</td>\n",
       "      <td>C5</td>\n",
       "      <td>...</td>\n",
       "      <td>NaN</td>\n",
       "      <td>NaN</td>\n",
       "      <td>Cash</td>\n",
       "      <td>N</td>\n",
       "      <td>NaN</td>\n",
       "      <td>NaN</td>\n",
       "      <td>NaN</td>\n",
       "      <td>NaN</td>\n",
       "      <td>NaN</td>\n",
       "      <td>NaN</td>\n",
       "    </tr>\n",
       "    <tr>\n",
       "      <th>3</th>\n",
       "      <td>1076863</td>\n",
       "      <td>NaN</td>\n",
       "      <td>10000</td>\n",
       "      <td>10000</td>\n",
       "      <td>10000</td>\n",
       "      <td>36 months</td>\n",
       "      <td>13.49%</td>\n",
       "      <td>339.31</td>\n",
       "      <td>C</td>\n",
       "      <td>C1</td>\n",
       "      <td>...</td>\n",
       "      <td>NaN</td>\n",
       "      <td>NaN</td>\n",
       "      <td>Cash</td>\n",
       "      <td>N</td>\n",
       "      <td>NaN</td>\n",
       "      <td>NaN</td>\n",
       "      <td>NaN</td>\n",
       "      <td>NaN</td>\n",
       "      <td>NaN</td>\n",
       "      <td>NaN</td>\n",
       "    </tr>\n",
       "    <tr>\n",
       "      <th>4</th>\n",
       "      <td>1075358</td>\n",
       "      <td>NaN</td>\n",
       "      <td>3000</td>\n",
       "      <td>3000</td>\n",
       "      <td>3000</td>\n",
       "      <td>60 months</td>\n",
       "      <td>12.69%</td>\n",
       "      <td>67.79</td>\n",
       "      <td>B</td>\n",
       "      <td>B5</td>\n",
       "      <td>...</td>\n",
       "      <td>NaN</td>\n",
       "      <td>NaN</td>\n",
       "      <td>Cash</td>\n",
       "      <td>N</td>\n",
       "      <td>NaN</td>\n",
       "      <td>NaN</td>\n",
       "      <td>NaN</td>\n",
       "      <td>NaN</td>\n",
       "      <td>NaN</td>\n",
       "      <td>NaN</td>\n",
       "    </tr>\n",
       "  </tbody>\n",
       "</table>\n",
       "<p>5 rows × 151 columns</p>\n",
       "</div>"
      ],
      "text/plain": [
       "        id member_id loan_amnt funded_amnt funded_amnt_inv        term  \\\n",
       "0  1077501       NaN      5000        5000            4975   36 months   \n",
       "1  1077430       NaN      2500        2500            2500   60 months   \n",
       "2  1077175       NaN      2400        2400            2400   36 months   \n",
       "3  1076863       NaN     10000       10000           10000   36 months   \n",
       "4  1075358       NaN      3000        3000            3000   60 months   \n",
       "\n",
       "  int_rate installment grade sub_grade       ...        \\\n",
       "0   10.65%      162.87     B        B2       ...         \n",
       "1   15.27%       59.83     C        C4       ...         \n",
       "2   15.96%       84.33     C        C5       ...         \n",
       "3   13.49%      339.31     C        C1       ...         \n",
       "4   12.69%       67.79     B        B5       ...         \n",
       "\n",
       "  hardship_payoff_balance_amount hardship_last_payment_amount  \\\n",
       "0                            NaN                          NaN   \n",
       "1                            NaN                          NaN   \n",
       "2                            NaN                          NaN   \n",
       "3                            NaN                          NaN   \n",
       "4                            NaN                          NaN   \n",
       "\n",
       "  disbursement_method debt_settlement_flag debt_settlement_flag_date  \\\n",
       "0                Cash                    N                       NaN   \n",
       "1                Cash                    N                       NaN   \n",
       "2                Cash                    N                       NaN   \n",
       "3                Cash                    N                       NaN   \n",
       "4                Cash                    N                       NaN   \n",
       "\n",
       "  settlement_status settlement_date settlement_amount settlement_percentage  \\\n",
       "0               NaN             NaN               NaN                   NaN   \n",
       "1               NaN             NaN               NaN                   NaN   \n",
       "2               NaN             NaN               NaN                   NaN   \n",
       "3               NaN             NaN               NaN                   NaN   \n",
       "4               NaN             NaN               NaN                   NaN   \n",
       "\n",
       "  settlement_term  \n",
       "0             NaN  \n",
       "1             NaN  \n",
       "2             NaN  \n",
       "3             NaN  \n",
       "4             NaN  \n",
       "\n",
       "[5 rows x 151 columns]"
      ]
     },
     "execution_count": 8,
     "metadata": {},
     "output_type": "execute_result"
    }
   ],
   "source": [
    "data_cs = pd.concat(files_cs.values()) # combine \"files_cs\" into a pandas dataframe\n",
    "data_cs.reset_index(drop=True)          # reset index with drop = True\n",
    "data_cs.head()"
   ]
  },
  {
   "cell_type": "markdown",
   "metadata": {},
   "source": [
    "## Prepare Final Dataset"
   ]
  },
  {
   "cell_type": "code",
   "execution_count": 9,
   "metadata": {},
   "outputs": [
    {
     "data": {
      "text/plain": [
       "(1765426, 26)"
      ]
     },
     "execution_count": 9,
     "metadata": {},
     "output_type": "execute_result"
    }
   ],
   "source": [
    "# Keep only the columns of interest from 'data_cs'\n",
    "final_data = data_cs[cols_to_pick]\n",
    "final_data.shape"
   ]
  },
  {
   "cell_type": "code",
   "execution_count": 10,
   "metadata": {},
   "outputs": [
    {
     "name": "stdout",
     "output_type": "stream",
     "text": [
      "Starting with 1765426 rows\n"
     ]
    }
   ],
   "source": [
    "print(\"Starting with \" + str(len(final_data)) + \" rows\")"
   ]
  },
  {
   "cell_type": "markdown",
   "metadata": {},
   "source": [
    "### Typecast the columns"
   ]
  },
  {
   "cell_type": "code",
   "execution_count": 11,
   "metadata": {},
   "outputs": [
    {
     "name": "stderr",
     "output_type": "stream",
     "text": [
      "C:\\ProgramData\\Anaconda3\\lib\\site-packages\\ipykernel_launcher.py:5: SettingWithCopyWarning: \n",
      "A value is trying to be set on a copy of a slice from a DataFrame.\n",
      "Try using .loc[row_indexer,col_indexer] = value instead\n",
      "\n",
      "See the caveats in the documentation: http://pandas.pydata.org/pandas-docs/stable/indexing.html#indexing-view-versus-copy\n",
      "  \"\"\"\n"
     ]
    },
    {
     "data": {
      "text/plain": [
       "id                      object\n",
       "loan_amnt              float64\n",
       "funded_amnt            float64\n",
       "term                    object\n",
       "int_rate                object\n",
       "installment            float64\n",
       "grade                   object\n",
       "emp_length              object\n",
       "home_ownership          object\n",
       "annual_inc             float64\n",
       "verification_status     object\n",
       "issue_d                 object\n",
       "loan_status             object\n",
       "purpose                 object\n",
       "dti                    float64\n",
       "delinq_2yrs            float64\n",
       "earliest_cr_line        object\n",
       "open_acc               float64\n",
       "pub_rec                float64\n",
       "fico_range_high        float64\n",
       "fico_range_low         float64\n",
       "revol_bal              float64\n",
       "revol_util              object\n",
       "total_pymnt            float64\n",
       "last_pymnt_d            object\n",
       "recoveries             float64\n",
       "dtype: object"
      ]
     },
     "execution_count": 11,
     "metadata": {},
     "output_type": "execute_result"
    }
   ],
   "source": [
    "# Remember that we read the data as string (without any formatting). \n",
    "# Now we would typecast the columns based on feature types which you found out in CS Phase 1\n",
    "\n",
    "for i in float_cols:\n",
    "    final_data[i] = final_data[i].astype(float) # typecast float columns\n",
    "    \n",
    "final_data.dtypes"
   ]
  },
  {
   "cell_type": "code",
   "execution_count": 12,
   "metadata": {},
   "outputs": [
    {
     "data": {
      "text/html": [
       "<div>\n",
       "<style scoped>\n",
       "    .dataframe tbody tr th:only-of-type {\n",
       "        vertical-align: middle;\n",
       "    }\n",
       "\n",
       "    .dataframe tbody tr th {\n",
       "        vertical-align: top;\n",
       "    }\n",
       "\n",
       "    .dataframe thead th {\n",
       "        text-align: right;\n",
       "    }\n",
       "</style>\n",
       "<table border=\"1\" class=\"dataframe\">\n",
       "  <thead>\n",
       "    <tr style=\"text-align: right;\">\n",
       "      <th></th>\n",
       "      <th>id</th>\n",
       "      <th>member_id</th>\n",
       "      <th>loan_amnt</th>\n",
       "      <th>funded_amnt</th>\n",
       "      <th>funded_amnt_inv</th>\n",
       "      <th>term</th>\n",
       "      <th>int_rate</th>\n",
       "      <th>installment</th>\n",
       "      <th>grade</th>\n",
       "      <th>sub_grade</th>\n",
       "      <th>...</th>\n",
       "      <th>hardship_payoff_balance_amount</th>\n",
       "      <th>hardship_last_payment_amount</th>\n",
       "      <th>disbursement_method</th>\n",
       "      <th>debt_settlement_flag</th>\n",
       "      <th>debt_settlement_flag_date</th>\n",
       "      <th>settlement_status</th>\n",
       "      <th>settlement_date</th>\n",
       "      <th>settlement_amount</th>\n",
       "      <th>settlement_percentage</th>\n",
       "      <th>settlement_term</th>\n",
       "    </tr>\n",
       "  </thead>\n",
       "  <tbody>\n",
       "    <tr>\n",
       "      <th>0</th>\n",
       "      <td>1077501</td>\n",
       "      <td>NaN</td>\n",
       "      <td>5000</td>\n",
       "      <td>5000</td>\n",
       "      <td>4975</td>\n",
       "      <td>36 months</td>\n",
       "      <td>10.65%</td>\n",
       "      <td>162.87</td>\n",
       "      <td>B</td>\n",
       "      <td>B2</td>\n",
       "      <td>...</td>\n",
       "      <td>NaN</td>\n",
       "      <td>NaN</td>\n",
       "      <td>Cash</td>\n",
       "      <td>N</td>\n",
       "      <td>NaN</td>\n",
       "      <td>NaN</td>\n",
       "      <td>NaN</td>\n",
       "      <td>NaN</td>\n",
       "      <td>NaN</td>\n",
       "      <td>NaN</td>\n",
       "    </tr>\n",
       "    <tr>\n",
       "      <th>0</th>\n",
       "      <td>10149577</td>\n",
       "      <td>NaN</td>\n",
       "      <td>28000</td>\n",
       "      <td>28000</td>\n",
       "      <td>28000</td>\n",
       "      <td>36 months</td>\n",
       "      <td>7.62%</td>\n",
       "      <td>872.52</td>\n",
       "      <td>A</td>\n",
       "      <td>A3</td>\n",
       "      <td>...</td>\n",
       "      <td>NaN</td>\n",
       "      <td>NaN</td>\n",
       "      <td>Cash</td>\n",
       "      <td>N</td>\n",
       "      <td>NaN</td>\n",
       "      <td>NaN</td>\n",
       "      <td>NaN</td>\n",
       "      <td>NaN</td>\n",
       "      <td>NaN</td>\n",
       "      <td>NaN</td>\n",
       "    </tr>\n",
       "    <tr>\n",
       "      <th>0</th>\n",
       "      <td>36805548</td>\n",
       "      <td>NaN</td>\n",
       "      <td>10400</td>\n",
       "      <td>10400</td>\n",
       "      <td>10400</td>\n",
       "      <td>36 months</td>\n",
       "      <td>6.99%</td>\n",
       "      <td>321.08</td>\n",
       "      <td>A</td>\n",
       "      <td>A3</td>\n",
       "      <td>...</td>\n",
       "      <td>NaN</td>\n",
       "      <td>NaN</td>\n",
       "      <td>Cash</td>\n",
       "      <td>N</td>\n",
       "      <td>NaN</td>\n",
       "      <td>NaN</td>\n",
       "      <td>NaN</td>\n",
       "      <td>NaN</td>\n",
       "      <td>NaN</td>\n",
       "      <td>NaN</td>\n",
       "    </tr>\n",
       "    <tr>\n",
       "      <th>0</th>\n",
       "      <td>68495092</td>\n",
       "      <td>NaN</td>\n",
       "      <td>8650</td>\n",
       "      <td>8650</td>\n",
       "      <td>8650</td>\n",
       "      <td>36 months</td>\n",
       "      <td>19.89%</td>\n",
       "      <td>320.99</td>\n",
       "      <td>E</td>\n",
       "      <td>E3</td>\n",
       "      <td>...</td>\n",
       "      <td>NaN</td>\n",
       "      <td>NaN</td>\n",
       "      <td>Cash</td>\n",
       "      <td>N</td>\n",
       "      <td>NaN</td>\n",
       "      <td>NaN</td>\n",
       "      <td>NaN</td>\n",
       "      <td>NaN</td>\n",
       "      <td>NaN</td>\n",
       "      <td>NaN</td>\n",
       "    </tr>\n",
       "    <tr>\n",
       "      <th>0</th>\n",
       "      <td>75598350</td>\n",
       "      <td>NaN</td>\n",
       "      <td>34000</td>\n",
       "      <td>34000</td>\n",
       "      <td>34000</td>\n",
       "      <td>36 months</td>\n",
       "      <td>9.75%</td>\n",
       "      <td>1093.1</td>\n",
       "      <td>B</td>\n",
       "      <td>B3</td>\n",
       "      <td>...</td>\n",
       "      <td>NaN</td>\n",
       "      <td>NaN</td>\n",
       "      <td>Cash</td>\n",
       "      <td>N</td>\n",
       "      <td>NaN</td>\n",
       "      <td>NaN</td>\n",
       "      <td>NaN</td>\n",
       "      <td>NaN</td>\n",
       "      <td>NaN</td>\n",
       "      <td>NaN</td>\n",
       "    </tr>\n",
       "    <tr>\n",
       "      <th>0</th>\n",
       "      <td>84333484</td>\n",
       "      <td>NaN</td>\n",
       "      <td>12000</td>\n",
       "      <td>12000</td>\n",
       "      <td>12000</td>\n",
       "      <td>36 months</td>\n",
       "      <td>15.59%</td>\n",
       "      <td>419.46</td>\n",
       "      <td>C</td>\n",
       "      <td>C5</td>\n",
       "      <td>...</td>\n",
       "      <td>NaN</td>\n",
       "      <td>NaN</td>\n",
       "      <td>Cash</td>\n",
       "      <td>N</td>\n",
       "      <td>NaN</td>\n",
       "      <td>NaN</td>\n",
       "      <td>NaN</td>\n",
       "      <td>NaN</td>\n",
       "      <td>NaN</td>\n",
       "      <td>NaN</td>\n",
       "    </tr>\n",
       "    <tr>\n",
       "      <th>0</th>\n",
       "      <td>90281097</td>\n",
       "      <td>NaN</td>\n",
       "      <td>35000</td>\n",
       "      <td>35000</td>\n",
       "      <td>35000</td>\n",
       "      <td>60 months</td>\n",
       "      <td>17.99%</td>\n",
       "      <td>888.58</td>\n",
       "      <td>D</td>\n",
       "      <td>D2</td>\n",
       "      <td>...</td>\n",
       "      <td>NaN</td>\n",
       "      <td>NaN</td>\n",
       "      <td>Cash</td>\n",
       "      <td>N</td>\n",
       "      <td>NaN</td>\n",
       "      <td>NaN</td>\n",
       "      <td>NaN</td>\n",
       "      <td>NaN</td>\n",
       "      <td>NaN</td>\n",
       "      <td>NaN</td>\n",
       "    </tr>\n",
       "    <tr>\n",
       "      <th>0</th>\n",
       "      <td>94360756</td>\n",
       "      <td>NaN</td>\n",
       "      <td>25900</td>\n",
       "      <td>25900</td>\n",
       "      <td>25900</td>\n",
       "      <td>60 months</td>\n",
       "      <td>25.49%</td>\n",
       "      <td>767.66</td>\n",
       "      <td>E</td>\n",
       "      <td>E4</td>\n",
       "      <td>...</td>\n",
       "      <td>NaN</td>\n",
       "      <td>NaN</td>\n",
       "      <td>Cash</td>\n",
       "      <td>N</td>\n",
       "      <td>NaN</td>\n",
       "      <td>NaN</td>\n",
       "      <td>NaN</td>\n",
       "      <td>NaN</td>\n",
       "      <td>NaN</td>\n",
       "      <td>NaN</td>\n",
       "    </tr>\n",
       "    <tr>\n",
       "      <th>0</th>\n",
       "      <td>104260154</td>\n",
       "      <td>NaN</td>\n",
       "      <td>35000</td>\n",
       "      <td>35000</td>\n",
       "      <td>35000</td>\n",
       "      <td>36 months</td>\n",
       "      <td>19.99%</td>\n",
       "      <td>1300.55</td>\n",
       "      <td>D</td>\n",
       "      <td>D4</td>\n",
       "      <td>...</td>\n",
       "      <td>NaN</td>\n",
       "      <td>NaN</td>\n",
       "      <td>Cash</td>\n",
       "      <td>N</td>\n",
       "      <td>NaN</td>\n",
       "      <td>NaN</td>\n",
       "      <td>NaN</td>\n",
       "      <td>NaN</td>\n",
       "      <td>NaN</td>\n",
       "      <td>NaN</td>\n",
       "    </tr>\n",
       "    <tr>\n",
       "      <th>0</th>\n",
       "      <td>112149045</td>\n",
       "      <td>NaN</td>\n",
       "      <td>7200</td>\n",
       "      <td>7200</td>\n",
       "      <td>7200</td>\n",
       "      <td>36 months</td>\n",
       "      <td>24.85%</td>\n",
       "      <td>285.7</td>\n",
       "      <td>E</td>\n",
       "      <td>E3</td>\n",
       "      <td>...</td>\n",
       "      <td>NaN</td>\n",
       "      <td>NaN</td>\n",
       "      <td>Cash</td>\n",
       "      <td>N</td>\n",
       "      <td>NaN</td>\n",
       "      <td>NaN</td>\n",
       "      <td>NaN</td>\n",
       "      <td>NaN</td>\n",
       "      <td>NaN</td>\n",
       "      <td>NaN</td>\n",
       "    </tr>\n",
       "    <tr>\n",
       "      <th>0</th>\n",
       "      <td>119374887</td>\n",
       "      <td>NaN</td>\n",
       "      <td>32000</td>\n",
       "      <td>32000</td>\n",
       "      <td>32000</td>\n",
       "      <td>36 months</td>\n",
       "      <td>11.99%</td>\n",
       "      <td>1062.71</td>\n",
       "      <td>B</td>\n",
       "      <td>B5</td>\n",
       "      <td>...</td>\n",
       "      <td>NaN</td>\n",
       "      <td>NaN</td>\n",
       "      <td>Cash</td>\n",
       "      <td>N</td>\n",
       "      <td>NaN</td>\n",
       "      <td>NaN</td>\n",
       "      <td>NaN</td>\n",
       "      <td>NaN</td>\n",
       "      <td>NaN</td>\n",
       "      <td>NaN</td>\n",
       "    </tr>\n",
       "    <tr>\n",
       "      <th>0</th>\n",
       "      <td>125490256</td>\n",
       "      <td>NaN</td>\n",
       "      <td>16000</td>\n",
       "      <td>16000</td>\n",
       "      <td>16000</td>\n",
       "      <td>36 months</td>\n",
       "      <td>7.97%</td>\n",
       "      <td>501.17</td>\n",
       "      <td>A</td>\n",
       "      <td>A5</td>\n",
       "      <td>...</td>\n",
       "      <td>NaN</td>\n",
       "      <td>NaN</td>\n",
       "      <td>Cash</td>\n",
       "      <td>N</td>\n",
       "      <td>NaN</td>\n",
       "      <td>NaN</td>\n",
       "      <td>NaN</td>\n",
       "      <td>NaN</td>\n",
       "      <td>NaN</td>\n",
       "      <td>NaN</td>\n",
       "    </tr>\n",
       "  </tbody>\n",
       "</table>\n",
       "<p>12 rows × 151 columns</p>\n",
       "</div>"
      ],
      "text/plain": [
       "          id member_id loan_amnt funded_amnt funded_amnt_inv        term  \\\n",
       "0    1077501       NaN      5000        5000            4975   36 months   \n",
       "0   10149577       NaN     28000       28000           28000   36 months   \n",
       "0   36805548       NaN     10400       10400           10400   36 months   \n",
       "0   68495092       NaN      8650        8650            8650   36 months   \n",
       "0   75598350       NaN     34000       34000           34000   36 months   \n",
       "0   84333484       NaN     12000       12000           12000   36 months   \n",
       "0   90281097       NaN     35000       35000           35000   60 months   \n",
       "0   94360756       NaN     25900       25900           25900   60 months   \n",
       "0  104260154       NaN     35000       35000           35000   36 months   \n",
       "0  112149045       NaN      7200        7200            7200   36 months   \n",
       "0  119374887       NaN     32000       32000           32000   36 months   \n",
       "0  125490256       NaN     16000       16000           16000   36 months   \n",
       "\n",
       "  int_rate installment grade sub_grade       ...        \\\n",
       "0   10.65%      162.87     B        B2       ...         \n",
       "0    7.62%      872.52     A        A3       ...         \n",
       "0    6.99%      321.08     A        A3       ...         \n",
       "0   19.89%      320.99     E        E3       ...         \n",
       "0    9.75%      1093.1     B        B3       ...         \n",
       "0   15.59%      419.46     C        C5       ...         \n",
       "0   17.99%      888.58     D        D2       ...         \n",
       "0   25.49%      767.66     E        E4       ...         \n",
       "0   19.99%     1300.55     D        D4       ...         \n",
       "0   24.85%       285.7     E        E3       ...         \n",
       "0   11.99%     1062.71     B        B5       ...         \n",
       "0    7.97%      501.17     A        A5       ...         \n",
       "\n",
       "  hardship_payoff_balance_amount hardship_last_payment_amount  \\\n",
       "0                            NaN                          NaN   \n",
       "0                            NaN                          NaN   \n",
       "0                            NaN                          NaN   \n",
       "0                            NaN                          NaN   \n",
       "0                            NaN                          NaN   \n",
       "0                            NaN                          NaN   \n",
       "0                            NaN                          NaN   \n",
       "0                            NaN                          NaN   \n",
       "0                            NaN                          NaN   \n",
       "0                            NaN                          NaN   \n",
       "0                            NaN                          NaN   \n",
       "0                            NaN                          NaN   \n",
       "\n",
       "  disbursement_method debt_settlement_flag debt_settlement_flag_date  \\\n",
       "0                Cash                    N                       NaN   \n",
       "0                Cash                    N                       NaN   \n",
       "0                Cash                    N                       NaN   \n",
       "0                Cash                    N                       NaN   \n",
       "0                Cash                    N                       NaN   \n",
       "0                Cash                    N                       NaN   \n",
       "0                Cash                    N                       NaN   \n",
       "0                Cash                    N                       NaN   \n",
       "0                Cash                    N                       NaN   \n",
       "0                Cash                    N                       NaN   \n",
       "0                Cash                    N                       NaN   \n",
       "0                Cash                    N                       NaN   \n",
       "\n",
       "  settlement_status settlement_date settlement_amount settlement_percentage  \\\n",
       "0               NaN             NaN               NaN                   NaN   \n",
       "0               NaN             NaN               NaN                   NaN   \n",
       "0               NaN             NaN               NaN                   NaN   \n",
       "0               NaN             NaN               NaN                   NaN   \n",
       "0               NaN             NaN               NaN                   NaN   \n",
       "0               NaN             NaN               NaN                   NaN   \n",
       "0               NaN             NaN               NaN                   NaN   \n",
       "0               NaN             NaN               NaN                   NaN   \n",
       "0               NaN             NaN               NaN                   NaN   \n",
       "0               NaN             NaN               NaN                   NaN   \n",
       "0               NaN             NaN               NaN                   NaN   \n",
       "0               NaN             NaN               NaN                   NaN   \n",
       "\n",
       "  settlement_term  \n",
       "0             NaN  \n",
       "0             NaN  \n",
       "0             NaN  \n",
       "0             NaN  \n",
       "0             NaN  \n",
       "0             NaN  \n",
       "0             NaN  \n",
       "0             NaN  \n",
       "0             NaN  \n",
       "0             NaN  \n",
       "0             NaN  \n",
       "0             NaN  \n",
       "\n",
       "[12 rows x 151 columns]"
      ]
     },
     "execution_count": 12,
     "metadata": {},
     "output_type": "execute_result"
    }
   ],
   "source": [
    "data_cs.loc[0]\n",
    "#note: should we be resetting the index?"
   ]
  },
  {
   "cell_type": "code",
   "execution_count": 13,
   "metadata": {},
   "outputs": [
    {
     "name": "stderr",
     "output_type": "stream",
     "text": [
      "C:\\ProgramData\\Anaconda3\\lib\\site-packages\\ipykernel_launcher.py:10: SettingWithCopyWarning: \n",
      "A value is trying to be set on a copy of a slice from a DataFrame.\n",
      "Try using .loc[row_indexer,col_indexer] = value instead\n",
      "\n",
      "See the caveats in the documentation: http://pandas.pydata.org/pandas-docs/stable/indexing.html#indexing-view-versus-copy\n",
      "  # Remove the CWD from sys.path while we load stuff.\n"
     ]
    },
    {
     "data": {
      "text/plain": [
       "id                      object\n",
       "loan_amnt              float64\n",
       "funded_amnt            float64\n",
       "term                    object\n",
       "int_rate               float64\n",
       "installment            float64\n",
       "grade                   object\n",
       "emp_length              object\n",
       "home_ownership          object\n",
       "annual_inc             float64\n",
       "verification_status     object\n",
       "issue_d                 object\n",
       "loan_status             object\n",
       "purpose                 object\n",
       "dti                    float64\n",
       "delinq_2yrs            float64\n",
       "earliest_cr_line        object\n",
       "open_acc               float64\n",
       "pub_rec                float64\n",
       "fico_range_high        float64\n",
       "fico_range_low         float64\n",
       "revol_bal              float64\n",
       "revol_util             float64\n",
       "total_pymnt            float64\n",
       "last_pymnt_d            object\n",
       "recoveries             float64\n",
       "dtype: object"
      ]
     },
     "execution_count": 13,
     "metadata": {},
     "output_type": "execute_result"
    }
   ],
   "source": [
    "def clean_perc(x):\n",
    "    if type(x) is float:\n",
    "        return x\n",
    "    if pd.isnull(x):\n",
    "        return np.nan\n",
    "    else:\n",
    "        return float(x.strip()[:-1])\n",
    "\n",
    "for i in perc_cols:\n",
    "    final_data[i] = [clean_perc(j) for j in final_data[i]] # apply clean_perc to percentage columns\n",
    "    \n",
    "final_data.dtypes"
   ]
  },
  {
   "cell_type": "code",
   "execution_count": 14,
   "metadata": {},
   "outputs": [
    {
     "name": "stderr",
     "output_type": "stream",
     "text": [
      "C:\\ProgramData\\Anaconda3\\lib\\site-packages\\ipykernel_launcher.py:10: SettingWithCopyWarning: \n",
      "A value is trying to be set on a copy of a slice from a DataFrame.\n",
      "Try using .loc[row_indexer,col_indexer] = value instead\n",
      "\n",
      "See the caveats in the documentation: http://pandas.pydata.org/pandas-docs/stable/indexing.html#indexing-view-versus-copy\n",
      "  # Remove the CWD from sys.path while we load stuff.\n"
     ]
    }
   ],
   "source": [
    "def clean_date(x):\n",
    "    if type(x) is datetime.datetime:\n",
    "        return x\n",
    "    if pd.isnull(x):\n",
    "        return None\n",
    "    else:\n",
    "        return datetime.datetime.strptime( x, \"%b-%Y\").date()\n",
    "\n",
    "for i in date_cols:\n",
    "    final_data[i] = [clean_date(d) for d in final_data[i]] # typecast date cloumns to datatime using clean_date"
   ]
  },
  {
   "cell_type": "code",
   "execution_count": 15,
   "metadata": {},
   "outputs": [],
   "source": [
    "for i in cat_cols:\n",
    "    final_data[i].replace(r'\\s+', None, regex=True, inplace = True) # for categorical features if the value is null/empty set it to None"
   ]
  },
  {
   "cell_type": "code",
   "execution_count": 16,
   "metadata": {},
   "outputs": [
    {
     "data": {
      "text/html": [
       "<div>\n",
       "<style scoped>\n",
       "    .dataframe tbody tr th:only-of-type {\n",
       "        vertical-align: middle;\n",
       "    }\n",
       "\n",
       "    .dataframe tbody tr th {\n",
       "        vertical-align: top;\n",
       "    }\n",
       "\n",
       "    .dataframe thead th {\n",
       "        text-align: right;\n",
       "    }\n",
       "</style>\n",
       "<table border=\"1\" class=\"dataframe\">\n",
       "  <thead>\n",
       "    <tr style=\"text-align: right;\">\n",
       "      <th></th>\n",
       "      <th>0</th>\n",
       "      <th>1</th>\n",
       "      <th>2</th>\n",
       "      <th>3</th>\n",
       "      <th>4</th>\n",
       "    </tr>\n",
       "  </thead>\n",
       "  <tbody>\n",
       "    <tr>\n",
       "      <th>id</th>\n",
       "      <td>1077501</td>\n",
       "      <td>1077430</td>\n",
       "      <td>1077175</td>\n",
       "      <td>1076863</td>\n",
       "      <td>1075358</td>\n",
       "    </tr>\n",
       "    <tr>\n",
       "      <th>loan_amnt</th>\n",
       "      <td>5000</td>\n",
       "      <td>2500</td>\n",
       "      <td>2400</td>\n",
       "      <td>10000</td>\n",
       "      <td>3000</td>\n",
       "    </tr>\n",
       "    <tr>\n",
       "      <th>funded_amnt</th>\n",
       "      <td>5000</td>\n",
       "      <td>2500</td>\n",
       "      <td>2400</td>\n",
       "      <td>10000</td>\n",
       "      <td>3000</td>\n",
       "    </tr>\n",
       "    <tr>\n",
       "      <th>term</th>\n",
       "      <td>36 months</td>\n",
       "      <td>60 months</td>\n",
       "      <td>36 months</td>\n",
       "      <td>36 months</td>\n",
       "      <td>60 months</td>\n",
       "    </tr>\n",
       "    <tr>\n",
       "      <th>int_rate</th>\n",
       "      <td>10.65</td>\n",
       "      <td>15.27</td>\n",
       "      <td>15.96</td>\n",
       "      <td>13.49</td>\n",
       "      <td>12.69</td>\n",
       "    </tr>\n",
       "    <tr>\n",
       "      <th>installment</th>\n",
       "      <td>162.87</td>\n",
       "      <td>59.83</td>\n",
       "      <td>84.33</td>\n",
       "      <td>339.31</td>\n",
       "      <td>67.79</td>\n",
       "    </tr>\n",
       "    <tr>\n",
       "      <th>grade</th>\n",
       "      <td>B</td>\n",
       "      <td>C</td>\n",
       "      <td>C</td>\n",
       "      <td>C</td>\n",
       "      <td>B</td>\n",
       "    </tr>\n",
       "    <tr>\n",
       "      <th>emp_length</th>\n",
       "      <td>10+ years</td>\n",
       "      <td>&lt; 1 year</td>\n",
       "      <td>10+ years</td>\n",
       "      <td>10+ years</td>\n",
       "      <td>1 year</td>\n",
       "    </tr>\n",
       "    <tr>\n",
       "      <th>home_ownership</th>\n",
       "      <td>RENT</td>\n",
       "      <td>RENT</td>\n",
       "      <td>RENT</td>\n",
       "      <td>RENT</td>\n",
       "      <td>RENT</td>\n",
       "    </tr>\n",
       "    <tr>\n",
       "      <th>annual_inc</th>\n",
       "      <td>24000</td>\n",
       "      <td>30000</td>\n",
       "      <td>12252</td>\n",
       "      <td>49200</td>\n",
       "      <td>80000</td>\n",
       "    </tr>\n",
       "    <tr>\n",
       "      <th>verification_status</th>\n",
       "      <td>Verified</td>\n",
       "      <td>Source Verified</td>\n",
       "      <td>Not Verified</td>\n",
       "      <td>Source Verified</td>\n",
       "      <td>Source Verified</td>\n",
       "    </tr>\n",
       "    <tr>\n",
       "      <th>issue_d</th>\n",
       "      <td>2011-12-01</td>\n",
       "      <td>2011-12-01</td>\n",
       "      <td>2011-12-01</td>\n",
       "      <td>2011-12-01</td>\n",
       "      <td>2011-12-01</td>\n",
       "    </tr>\n",
       "    <tr>\n",
       "      <th>loan_status</th>\n",
       "      <td>Fully Paid</td>\n",
       "      <td>Charged Off</td>\n",
       "      <td>Fully Paid</td>\n",
       "      <td>Fully Paid</td>\n",
       "      <td>Fully Paid</td>\n",
       "    </tr>\n",
       "    <tr>\n",
       "      <th>purpose</th>\n",
       "      <td>credit_card</td>\n",
       "      <td>car</td>\n",
       "      <td>small_business</td>\n",
       "      <td>other</td>\n",
       "      <td>other</td>\n",
       "    </tr>\n",
       "    <tr>\n",
       "      <th>dti</th>\n",
       "      <td>27.65</td>\n",
       "      <td>1</td>\n",
       "      <td>8.72</td>\n",
       "      <td>20</td>\n",
       "      <td>17.94</td>\n",
       "    </tr>\n",
       "    <tr>\n",
       "      <th>delinq_2yrs</th>\n",
       "      <td>0</td>\n",
       "      <td>0</td>\n",
       "      <td>0</td>\n",
       "      <td>0</td>\n",
       "      <td>0</td>\n",
       "    </tr>\n",
       "    <tr>\n",
       "      <th>earliest_cr_line</th>\n",
       "      <td>1985-01-01</td>\n",
       "      <td>1999-04-01</td>\n",
       "      <td>2001-11-01</td>\n",
       "      <td>1996-02-01</td>\n",
       "      <td>1996-01-01</td>\n",
       "    </tr>\n",
       "    <tr>\n",
       "      <th>open_acc</th>\n",
       "      <td>3</td>\n",
       "      <td>3</td>\n",
       "      <td>2</td>\n",
       "      <td>10</td>\n",
       "      <td>15</td>\n",
       "    </tr>\n",
       "    <tr>\n",
       "      <th>pub_rec</th>\n",
       "      <td>0</td>\n",
       "      <td>0</td>\n",
       "      <td>0</td>\n",
       "      <td>0</td>\n",
       "      <td>0</td>\n",
       "    </tr>\n",
       "    <tr>\n",
       "      <th>fico_range_high</th>\n",
       "      <td>739</td>\n",
       "      <td>744</td>\n",
       "      <td>739</td>\n",
       "      <td>694</td>\n",
       "      <td>699</td>\n",
       "    </tr>\n",
       "    <tr>\n",
       "      <th>fico_range_low</th>\n",
       "      <td>735</td>\n",
       "      <td>740</td>\n",
       "      <td>735</td>\n",
       "      <td>690</td>\n",
       "      <td>695</td>\n",
       "    </tr>\n",
       "    <tr>\n",
       "      <th>revol_bal</th>\n",
       "      <td>13648</td>\n",
       "      <td>1687</td>\n",
       "      <td>2956</td>\n",
       "      <td>5598</td>\n",
       "      <td>27783</td>\n",
       "    </tr>\n",
       "    <tr>\n",
       "      <th>revol_util</th>\n",
       "      <td>83.7</td>\n",
       "      <td>9.4</td>\n",
       "      <td>98.5</td>\n",
       "      <td>21</td>\n",
       "      <td>53.9</td>\n",
       "    </tr>\n",
       "    <tr>\n",
       "      <th>total_pymnt</th>\n",
       "      <td>5863.16</td>\n",
       "      <td>1014.53</td>\n",
       "      <td>3005.67</td>\n",
       "      <td>12231.9</td>\n",
       "      <td>4066.91</td>\n",
       "    </tr>\n",
       "    <tr>\n",
       "      <th>last_pymnt_d</th>\n",
       "      <td>2015-01-01</td>\n",
       "      <td>2013-04-01</td>\n",
       "      <td>2014-06-01</td>\n",
       "      <td>2015-01-01</td>\n",
       "      <td>2017-01-01</td>\n",
       "    </tr>\n",
       "    <tr>\n",
       "      <th>recoveries</th>\n",
       "      <td>0</td>\n",
       "      <td>122.9</td>\n",
       "      <td>0</td>\n",
       "      <td>0</td>\n",
       "      <td>0</td>\n",
       "    </tr>\n",
       "  </tbody>\n",
       "</table>\n",
       "</div>"
      ],
      "text/plain": [
       "                               0                1               2  \\\n",
       "id                       1077501          1077430         1077175   \n",
       "loan_amnt                   5000             2500            2400   \n",
       "funded_amnt                 5000             2500            2400   \n",
       "term                   36 months        60 months       36 months   \n",
       "int_rate                   10.65            15.27           15.96   \n",
       "installment               162.87            59.83           84.33   \n",
       "grade                          B                C               C   \n",
       "emp_length             10+ years         < 1 year       10+ years   \n",
       "home_ownership              RENT             RENT            RENT   \n",
       "annual_inc                 24000            30000           12252   \n",
       "verification_status     Verified  Source Verified    Not Verified   \n",
       "issue_d               2011-12-01       2011-12-01      2011-12-01   \n",
       "loan_status           Fully Paid      Charged Off      Fully Paid   \n",
       "purpose              credit_card              car  small_business   \n",
       "dti                        27.65                1            8.72   \n",
       "delinq_2yrs                    0                0               0   \n",
       "earliest_cr_line      1985-01-01       1999-04-01      2001-11-01   \n",
       "open_acc                       3                3               2   \n",
       "pub_rec                        0                0               0   \n",
       "fico_range_high              739              744             739   \n",
       "fico_range_low               735              740             735   \n",
       "revol_bal                  13648             1687            2956   \n",
       "revol_util                  83.7              9.4            98.5   \n",
       "total_pymnt              5863.16          1014.53         3005.67   \n",
       "last_pymnt_d          2015-01-01       2013-04-01      2014-06-01   \n",
       "recoveries                     0            122.9               0   \n",
       "\n",
       "                                   3                4  \n",
       "id                           1076863          1075358  \n",
       "loan_amnt                      10000             3000  \n",
       "funded_amnt                    10000             3000  \n",
       "term                       36 months        60 months  \n",
       "int_rate                       13.49            12.69  \n",
       "installment                   339.31            67.79  \n",
       "grade                              C                B  \n",
       "emp_length                 10+ years           1 year  \n",
       "home_ownership                  RENT             RENT  \n",
       "annual_inc                     49200            80000  \n",
       "verification_status  Source Verified  Source Verified  \n",
       "issue_d                   2011-12-01       2011-12-01  \n",
       "loan_status               Fully Paid       Fully Paid  \n",
       "purpose                        other            other  \n",
       "dti                               20            17.94  \n",
       "delinq_2yrs                        0                0  \n",
       "earliest_cr_line          1996-02-01       1996-01-01  \n",
       "open_acc                          10               15  \n",
       "pub_rec                            0                0  \n",
       "fico_range_high                  694              699  \n",
       "fico_range_low                   690              695  \n",
       "revol_bal                       5598            27783  \n",
       "revol_util                        21             53.9  \n",
       "total_pymnt                  12231.9          4066.91  \n",
       "last_pymnt_d              2015-01-01       2017-01-01  \n",
       "recoveries                         0                0  "
      ]
     },
     "execution_count": 16,
     "metadata": {},
     "output_type": "execute_result"
    }
   ],
   "source": [
    "final_data.head().T"
   ]
  },
  {
   "cell_type": "markdown",
   "metadata": {},
   "source": [
    "## Calculate returns for each loan"
   ]
  },
  {
   "cell_type": "code",
   "execution_count": 17,
   "metadata": {},
   "outputs": [],
   "source": [
    "# Define the names of the four returns we'll be calculating as described in Q.6\n",
    "# ret_PESS: Pessimistic return\n",
    "# ret_OPT: Optimistic return\n",
    "# ret_INTa, ret_INTb: Method3 at two different values of \"i\" \n",
    "ret_cols = [\"ret_PESS\", \"ret_OPT\", \"ret_INTa\", \"ret_INTb\"]"
   ]
  },
  {
   "cell_type": "code",
   "execution_count": 18,
   "metadata": {},
   "outputs": [
    {
     "name": "stderr",
     "output_type": "stream",
     "text": [
      "C:\\ProgramData\\Anaconda3\\lib\\site-packages\\ipykernel_launcher.py:2: SettingWithCopyWarning: \n",
      "A value is trying to be set on a copy of a slice from a DataFrame.\n",
      "Try using .loc[row_indexer,col_indexer] = value instead\n",
      "\n",
      "See the caveats in the documentation: http://pandas.pydata.org/pandas-docs/stable/indexing.html#indexing-view-versus-copy\n",
      "  \n"
     ]
    },
    {
     "name": "stdout",
     "output_type": "stream",
     "text": [
      "Removed 8006 rows\n"
     ]
    }
   ],
   "source": [
    "# Remove all rows for loans that were paid back on the days they were issued\n",
    "final_data['loan_length'] = (final_data.last_pymnt_d - final_data.issue_d) / np.timedelta64(1, 'M')\n",
    "n_rows = len(final_data)\n",
    "\n",
    "final_data = final_data.loc[final_data['loan_length'] > 0] # select rows where loan_length is not 0. \n",
    "\n",
    "print(\"Removed \" + str(n_rows - len(final_data)) + \" rows\")"
   ]
  },
  {
   "cell_type": "markdown",
   "metadata": {},
   "source": [
    "### M1-Pessimistic Method"
   ]
  },
  {
   "cell_type": "code",
   "execution_count": 19,
   "metadata": {},
   "outputs": [
    {
     "data": {
      "text/plain": [
       "0    36\n",
       "1    60\n",
       "2    36\n",
       "3    36\n",
       "4    60\n",
       "Name: term, dtype: int32"
      ]
     },
     "execution_count": 19,
     "metadata": {},
     "output_type": "execute_result"
    }
   ],
   "source": [
    "final_data.term.str.extract('(\\d+)',expand=False).astype(int).head()"
   ]
  },
  {
   "cell_type": "code",
   "execution_count": 20,
   "metadata": {},
   "outputs": [],
   "source": [
    "# Calculate the return using a simple annualized profit margin\n",
    "# Pessimistic definition (Handout 6a.) (M1)\n",
    "\n",
    "final_data['term_num'] = final_data.term.str.extract('(\\d+)',expand=False).astype(int) # length of loan in months\n",
    "\n",
    "final_data['ret_PESS'] = ((final_data['total_pymnt']-final_data['loan_amnt'])/final_data['loan_amnt'] ) * (12/final_data['term_num'])"
   ]
  },
  {
   "cell_type": "markdown",
   "metadata": {},
   "source": [
    "### M2-Optimistic Method"
   ]
  },
  {
   "cell_type": "code",
   "execution_count": 21,
   "metadata": {},
   "outputs": [],
   "source": [
    "# Assuming that if a loan gives a positive return, we can\n",
    "# immediately find a similar loan to invest in; if the loan\n",
    "# takes a loss, we use M1-pessimistic to compute the return\n",
    "\n",
    "final_data['ret_OPT'] = ((final_data['total_pymnt']-final_data['loan_amnt'])/final_data['loan_amnt'] ) * (12/final_data['loan_length'])\n",
    "\n",
    "final_data.loc[final_data.ret_OPT < 0,'ret_OPT'] = final_data.loc[final_data.ret_OPT < 0,'ret_PESS']"
   ]
  },
  {
   "cell_type": "markdown",
   "metadata": {},
   "source": [
    "### Method 3"
   ]
  },
  {
   "cell_type": "code",
   "execution_count": 22,
   "metadata": {},
   "outputs": [],
   "source": [
    "#@joe/Ghazal please review\n",
    "def ret_method_3(T, i):\n",
    "    '''\n",
    "    Given an investment time horizon (in months) and re-investment\n",
    "    interest rate, calculate the return of each loan\n",
    "    '''\n",
    "    \n",
    "    # Assuming that the total amount paid back was paid at equal\n",
    "    # intervals during the duration of the loan, calculate the\n",
    "    # size of each of these installment\n",
    "    m = final_data.loan_length\n",
    "    f = final_data.funded_amnt\n",
    "    actual_installment = (final_data.total_pymnt - final_data.recoveries) / m #p/m\n",
    "\n",
    "    # Assuming the amount is immediately re-invested at the prime\n",
    "    # rate, find the total amount of money we'll have by the end\n",
    "    # of the loan\n",
    "    # compute the quantity given in [] in eq.2.3 of handout\n",
    "    #(1-(1+i)^m) / 1 - (1+i)) * (1+i)^(T-m) - f\n",
    "\n",
    "    cash_by_end_of_loan = actual_installment * (1-(1+i)**m)/-i * (1+i)**(T-m) - f\n",
    "    \n",
    "    cash_by_end_of_loan = cash_by_end_of_loan + final_data.recoveries\n",
    "    \n",
    "    # Assuming that cash is then re-invested at the prime rate,\n",
    "    # with monthly re-investment, until T months from the start\n",
    "    # of the loan\n",
    "    remaining_months = T - final_data['loan_length']\n",
    "    final_return = cash_by_end_of_loan * 1/f\n",
    "\n",
    "    # Find the percentage return\n",
    "    ret_val = (12/T) * final_return\n",
    "    return ret_val"
   ]
  },
  {
   "cell_type": "code",
   "execution_count": 23,
   "metadata": {},
   "outputs": [],
   "source": [
    "final_data['ret_INTa'] = ret_method_3(60,0.001) # call ret_method_3 with T=60, i=0.001\n",
    "final_data['ret_INTb'] = ret_method_3(60,0.005) # call ret_method_3 with T=60, i=0.005"
   ]
  },
  {
   "cell_type": "code",
   "execution_count": 24,
   "metadata": {},
   "outputs": [
    {
     "data": {
      "text/html": [
       "<div>\n",
       "<style scoped>\n",
       "    .dataframe tbody tr th:only-of-type {\n",
       "        vertical-align: middle;\n",
       "    }\n",
       "\n",
       "    .dataframe tbody tr th {\n",
       "        vertical-align: top;\n",
       "    }\n",
       "\n",
       "    .dataframe thead th {\n",
       "        text-align: right;\n",
       "    }\n",
       "</style>\n",
       "<table border=\"1\" class=\"dataframe\">\n",
       "  <thead>\n",
       "    <tr style=\"text-align: right;\">\n",
       "      <th></th>\n",
       "      <th>0</th>\n",
       "      <th>1</th>\n",
       "      <th>2</th>\n",
       "      <th>3</th>\n",
       "      <th>4</th>\n",
       "    </tr>\n",
       "  </thead>\n",
       "  <tbody>\n",
       "    <tr>\n",
       "      <th>id</th>\n",
       "      <td>1077501</td>\n",
       "      <td>1077430</td>\n",
       "      <td>1077175</td>\n",
       "      <td>1076863</td>\n",
       "      <td>1075358</td>\n",
       "    </tr>\n",
       "    <tr>\n",
       "      <th>loan_amnt</th>\n",
       "      <td>5000</td>\n",
       "      <td>2500</td>\n",
       "      <td>2400</td>\n",
       "      <td>10000</td>\n",
       "      <td>3000</td>\n",
       "    </tr>\n",
       "    <tr>\n",
       "      <th>funded_amnt</th>\n",
       "      <td>5000</td>\n",
       "      <td>2500</td>\n",
       "      <td>2400</td>\n",
       "      <td>10000</td>\n",
       "      <td>3000</td>\n",
       "    </tr>\n",
       "    <tr>\n",
       "      <th>term</th>\n",
       "      <td>36 months</td>\n",
       "      <td>60 months</td>\n",
       "      <td>36 months</td>\n",
       "      <td>36 months</td>\n",
       "      <td>60 months</td>\n",
       "    </tr>\n",
       "    <tr>\n",
       "      <th>int_rate</th>\n",
       "      <td>10.65</td>\n",
       "      <td>15.27</td>\n",
       "      <td>15.96</td>\n",
       "      <td>13.49</td>\n",
       "      <td>12.69</td>\n",
       "    </tr>\n",
       "    <tr>\n",
       "      <th>installment</th>\n",
       "      <td>162.87</td>\n",
       "      <td>59.83</td>\n",
       "      <td>84.33</td>\n",
       "      <td>339.31</td>\n",
       "      <td>67.79</td>\n",
       "    </tr>\n",
       "    <tr>\n",
       "      <th>grade</th>\n",
       "      <td>B</td>\n",
       "      <td>C</td>\n",
       "      <td>C</td>\n",
       "      <td>C</td>\n",
       "      <td>B</td>\n",
       "    </tr>\n",
       "    <tr>\n",
       "      <th>emp_length</th>\n",
       "      <td>10+ years</td>\n",
       "      <td>&lt; 1 year</td>\n",
       "      <td>10+ years</td>\n",
       "      <td>10+ years</td>\n",
       "      <td>1 year</td>\n",
       "    </tr>\n",
       "    <tr>\n",
       "      <th>home_ownership</th>\n",
       "      <td>RENT</td>\n",
       "      <td>RENT</td>\n",
       "      <td>RENT</td>\n",
       "      <td>RENT</td>\n",
       "      <td>RENT</td>\n",
       "    </tr>\n",
       "    <tr>\n",
       "      <th>annual_inc</th>\n",
       "      <td>24000</td>\n",
       "      <td>30000</td>\n",
       "      <td>12252</td>\n",
       "      <td>49200</td>\n",
       "      <td>80000</td>\n",
       "    </tr>\n",
       "    <tr>\n",
       "      <th>verification_status</th>\n",
       "      <td>Verified</td>\n",
       "      <td>Source Verified</td>\n",
       "      <td>Not Verified</td>\n",
       "      <td>Source Verified</td>\n",
       "      <td>Source Verified</td>\n",
       "    </tr>\n",
       "    <tr>\n",
       "      <th>issue_d</th>\n",
       "      <td>2011-12-01</td>\n",
       "      <td>2011-12-01</td>\n",
       "      <td>2011-12-01</td>\n",
       "      <td>2011-12-01</td>\n",
       "      <td>2011-12-01</td>\n",
       "    </tr>\n",
       "    <tr>\n",
       "      <th>loan_status</th>\n",
       "      <td>Fully Paid</td>\n",
       "      <td>Charged Off</td>\n",
       "      <td>Fully Paid</td>\n",
       "      <td>Fully Paid</td>\n",
       "      <td>Fully Paid</td>\n",
       "    </tr>\n",
       "    <tr>\n",
       "      <th>purpose</th>\n",
       "      <td>credit_card</td>\n",
       "      <td>car</td>\n",
       "      <td>small_business</td>\n",
       "      <td>other</td>\n",
       "      <td>other</td>\n",
       "    </tr>\n",
       "    <tr>\n",
       "      <th>dti</th>\n",
       "      <td>27.65</td>\n",
       "      <td>1</td>\n",
       "      <td>8.72</td>\n",
       "      <td>20</td>\n",
       "      <td>17.94</td>\n",
       "    </tr>\n",
       "    <tr>\n",
       "      <th>delinq_2yrs</th>\n",
       "      <td>0</td>\n",
       "      <td>0</td>\n",
       "      <td>0</td>\n",
       "      <td>0</td>\n",
       "      <td>0</td>\n",
       "    </tr>\n",
       "    <tr>\n",
       "      <th>earliest_cr_line</th>\n",
       "      <td>1985-01-01</td>\n",
       "      <td>1999-04-01</td>\n",
       "      <td>2001-11-01</td>\n",
       "      <td>1996-02-01</td>\n",
       "      <td>1996-01-01</td>\n",
       "    </tr>\n",
       "    <tr>\n",
       "      <th>open_acc</th>\n",
       "      <td>3</td>\n",
       "      <td>3</td>\n",
       "      <td>2</td>\n",
       "      <td>10</td>\n",
       "      <td>15</td>\n",
       "    </tr>\n",
       "    <tr>\n",
       "      <th>pub_rec</th>\n",
       "      <td>0</td>\n",
       "      <td>0</td>\n",
       "      <td>0</td>\n",
       "      <td>0</td>\n",
       "      <td>0</td>\n",
       "    </tr>\n",
       "    <tr>\n",
       "      <th>fico_range_high</th>\n",
       "      <td>739</td>\n",
       "      <td>744</td>\n",
       "      <td>739</td>\n",
       "      <td>694</td>\n",
       "      <td>699</td>\n",
       "    </tr>\n",
       "    <tr>\n",
       "      <th>fico_range_low</th>\n",
       "      <td>735</td>\n",
       "      <td>740</td>\n",
       "      <td>735</td>\n",
       "      <td>690</td>\n",
       "      <td>695</td>\n",
       "    </tr>\n",
       "    <tr>\n",
       "      <th>revol_bal</th>\n",
       "      <td>13648</td>\n",
       "      <td>1687</td>\n",
       "      <td>2956</td>\n",
       "      <td>5598</td>\n",
       "      <td>27783</td>\n",
       "    </tr>\n",
       "    <tr>\n",
       "      <th>revol_util</th>\n",
       "      <td>83.7</td>\n",
       "      <td>9.4</td>\n",
       "      <td>98.5</td>\n",
       "      <td>21</td>\n",
       "      <td>53.9</td>\n",
       "    </tr>\n",
       "    <tr>\n",
       "      <th>total_pymnt</th>\n",
       "      <td>5863.16</td>\n",
       "      <td>1014.53</td>\n",
       "      <td>3005.67</td>\n",
       "      <td>12231.9</td>\n",
       "      <td>4066.91</td>\n",
       "    </tr>\n",
       "    <tr>\n",
       "      <th>last_pymnt_d</th>\n",
       "      <td>2015-01-01</td>\n",
       "      <td>2013-04-01</td>\n",
       "      <td>2014-06-01</td>\n",
       "      <td>2015-01-01</td>\n",
       "      <td>2017-01-01</td>\n",
       "    </tr>\n",
       "    <tr>\n",
       "      <th>recoveries</th>\n",
       "      <td>0</td>\n",
       "      <td>122.9</td>\n",
       "      <td>0</td>\n",
       "      <td>0</td>\n",
       "      <td>0</td>\n",
       "    </tr>\n",
       "    <tr>\n",
       "      <th>loan_length</th>\n",
       "      <td>37.0275</td>\n",
       "      <td>16.0003</td>\n",
       "      <td>29.9965</td>\n",
       "      <td>37.0275</td>\n",
       "      <td>61.0444</td>\n",
       "    </tr>\n",
       "    <tr>\n",
       "      <th>term_num</th>\n",
       "      <td>36</td>\n",
       "      <td>60</td>\n",
       "      <td>36</td>\n",
       "      <td>36</td>\n",
       "      <td>60</td>\n",
       "    </tr>\n",
       "    <tr>\n",
       "      <th>ret_PESS</th>\n",
       "      <td>0.0575437</td>\n",
       "      <td>-0.118838</td>\n",
       "      <td>0.0841204</td>\n",
       "      <td>0.0743963</td>\n",
       "      <td>0.0711272</td>\n",
       "    </tr>\n",
       "    <tr>\n",
       "      <th>ret_OPT</th>\n",
       "      <td>0.0559469</td>\n",
       "      <td>-0.118838</td>\n",
       "      <td>0.100956</td>\n",
       "      <td>0.072332</td>\n",
       "      <td>0.0699103</td>\n",
       "    </tr>\n",
       "    <tr>\n",
       "      <th>ret_INTa</th>\n",
       "      <td>0.0443472</td>\n",
       "      <td>-0.115069</td>\n",
       "      <td>0.0618744</td>\n",
       "      <td>0.0548822</td>\n",
       "      <td>0.0791381</td>\n",
       "    </tr>\n",
       "    <tr>\n",
       "      <th>ret_INTb</th>\n",
       "      <td>0.0881288</td>\n",
       "      <td>-0.0979233</td>\n",
       "      <td>0.11301</td>\n",
       "      <td>0.100551</td>\n",
       "      <td>0.114497</td>\n",
       "    </tr>\n",
       "  </tbody>\n",
       "</table>\n",
       "</div>"
      ],
      "text/plain": [
       "                               0                1               2  \\\n",
       "id                       1077501          1077430         1077175   \n",
       "loan_amnt                   5000             2500            2400   \n",
       "funded_amnt                 5000             2500            2400   \n",
       "term                   36 months        60 months       36 months   \n",
       "int_rate                   10.65            15.27           15.96   \n",
       "installment               162.87            59.83           84.33   \n",
       "grade                          B                C               C   \n",
       "emp_length             10+ years         < 1 year       10+ years   \n",
       "home_ownership              RENT             RENT            RENT   \n",
       "annual_inc                 24000            30000           12252   \n",
       "verification_status     Verified  Source Verified    Not Verified   \n",
       "issue_d               2011-12-01       2011-12-01      2011-12-01   \n",
       "loan_status           Fully Paid      Charged Off      Fully Paid   \n",
       "purpose              credit_card              car  small_business   \n",
       "dti                        27.65                1            8.72   \n",
       "delinq_2yrs                    0                0               0   \n",
       "earliest_cr_line      1985-01-01       1999-04-01      2001-11-01   \n",
       "open_acc                       3                3               2   \n",
       "pub_rec                        0                0               0   \n",
       "fico_range_high              739              744             739   \n",
       "fico_range_low               735              740             735   \n",
       "revol_bal                  13648             1687            2956   \n",
       "revol_util                  83.7              9.4            98.5   \n",
       "total_pymnt              5863.16          1014.53         3005.67   \n",
       "last_pymnt_d          2015-01-01       2013-04-01      2014-06-01   \n",
       "recoveries                     0            122.9               0   \n",
       "loan_length              37.0275          16.0003         29.9965   \n",
       "term_num                      36               60              36   \n",
       "ret_PESS               0.0575437        -0.118838       0.0841204   \n",
       "ret_OPT                0.0559469        -0.118838        0.100956   \n",
       "ret_INTa               0.0443472        -0.115069       0.0618744   \n",
       "ret_INTb               0.0881288       -0.0979233         0.11301   \n",
       "\n",
       "                                   3                4  \n",
       "id                           1076863          1075358  \n",
       "loan_amnt                      10000             3000  \n",
       "funded_amnt                    10000             3000  \n",
       "term                       36 months        60 months  \n",
       "int_rate                       13.49            12.69  \n",
       "installment                   339.31            67.79  \n",
       "grade                              C                B  \n",
       "emp_length                 10+ years           1 year  \n",
       "home_ownership                  RENT             RENT  \n",
       "annual_inc                     49200            80000  \n",
       "verification_status  Source Verified  Source Verified  \n",
       "issue_d                   2011-12-01       2011-12-01  \n",
       "loan_status               Fully Paid       Fully Paid  \n",
       "purpose                        other            other  \n",
       "dti                               20            17.94  \n",
       "delinq_2yrs                        0                0  \n",
       "earliest_cr_line          1996-02-01       1996-01-01  \n",
       "open_acc                          10               15  \n",
       "pub_rec                            0                0  \n",
       "fico_range_high                  694              699  \n",
       "fico_range_low                   690              695  \n",
       "revol_bal                       5598            27783  \n",
       "revol_util                        21             53.9  \n",
       "total_pymnt                  12231.9          4066.91  \n",
       "last_pymnt_d              2015-01-01       2017-01-01  \n",
       "recoveries                         0                0  \n",
       "loan_length                  37.0275          61.0444  \n",
       "term_num                          36               60  \n",
       "ret_PESS                   0.0743963        0.0711272  \n",
       "ret_OPT                     0.072332        0.0699103  \n",
       "ret_INTa                   0.0548822        0.0791381  \n",
       "ret_INTb                    0.100551         0.114497  "
      ]
     },
     "execution_count": 24,
     "metadata": {},
     "output_type": "execute_result"
    }
   ],
   "source": [
    "final_data.head().T"
   ]
  },
  {
   "cell_type": "markdown",
   "metadata": {},
   "source": [
    "### Visualize the variables"
   ]
  },
  {
   "cell_type": "code",
   "execution_count": 25,
   "metadata": {},
   "outputs": [],
   "source": [
    "def visualize_float_columns(df):\n",
    "    '''\n",
    "    This function visualizes Box-and-whisker plots for continuous variables\n",
    "    '''\n",
    "    \n",
    "    # FLoat columns\n",
    "    for i in float_cols + perc_cols + ret_cols:\n",
    "        print(i)\n",
    "        seaborn.boxplot(df[i])\n",
    "\n",
    "        # Print the three highest values\n",
    "        highest_vals = list(df[i].sort_values(ascending=False).head(3)) # get 3 highest values\n",
    "        \n",
    "        smallest_val = min(df[i])\n",
    "        \n",
    "        plt.text(smallest_val, -0.3, highest_vals[0])\n",
    "        plt.text(smallest_val, -0.2, highest_vals[1])\n",
    "        plt.text(smallest_val, -0.1, highest_vals[2])\n",
    "\n",
    "        plt.show()"
   ]
  },
  {
   "cell_type": "code",
   "execution_count": 26,
   "metadata": {},
   "outputs": [
    {
     "data": {
      "text/plain": [
       "Counter({' 36 months': 1259267, ' 60 months': 498153})"
      ]
     },
     "execution_count": 26,
     "metadata": {},
     "output_type": "execute_result"
    }
   ],
   "source": [
    "from collections import Counter\n",
    "c = Counter(final_data['term'])\n",
    "c"
   ]
  },
  {
   "cell_type": "code",
   "execution_count": 27,
   "metadata": {},
   "outputs": [],
   "source": [
    "from collections import Counter\n",
    "def visualize_cat_columns(df):\n",
    "    '''\n",
    "    Lists the distinct values for categorical columns\n",
    "    '''\n",
    "    # Categorical columns \n",
    "    for i in cat_cols:\n",
    "        print(i) # print field name\n",
    "        dataSet = set(df[i])\n",
    "        print(\"Number Distinct Values: \", len(dataSet)) # print number of distinct values\n",
    "        c = Counter(df[i])\n",
    "        for k,v in c.items():\n",
    "            print(k,\": \",v)# for each distinct value print the number of occurances\n",
    "        print(\"\")\n",
    "        print(\"\")"
   ]
  },
  {
   "cell_type": "code",
   "execution_count": 28,
   "metadata": {},
   "outputs": [],
   "source": [
    "def visualize_date_columns(df):\n",
    "    '''\n",
    "    This function visualizes a timeline density for dates\n",
    "    '''\n",
    "    \n",
    "    # Date columns\n",
    "    for i in date_cols:\n",
    "        df[df[i].isnull() == False][i].apply(lambda x : str(x.year) +\n",
    "                                                \"-\" + str(x.month)).value_counts(ascending = True).plot()\n",
    "        plt.title(i + \" (\" + str(df[i].isnull().sum()) + \" null values)\")\n",
    "        plt.show()"
   ]
  },
  {
   "cell_type": "code",
   "execution_count": 29,
   "metadata": {},
   "outputs": [
    {
     "name": "stdout",
     "output_type": "stream",
     "text": [
      "loan_amnt\n"
     ]
    },
    {
     "data": {
      "image/png": "[encoded data removed]",
      "text/plain": [
       "<Figure size 432x288 with 1 Axes>"
      ]
     },
     "metadata": {
      "needs_background": "light"
     },
     "output_type": "display_data"
    },
    {
     "name": "stdout",
     "output_type": "stream",
     "text": [
      "funded_amnt\n"
     ]
    },
    {
     "data": {
      "image/png": "[encoded data removed]",
      "text/plain": [
       "<Figure size 432x288 with 1 Axes>"
      ]
     },
     "metadata": {
      "needs_background": "light"
     },
     "output_type": "display_data"
    },
    {
     "name": "stdout",
     "output_type": "stream",
     "text": [
      "installment\n"
     ]
    },
    {
     "data": {
      "image/png": "[encoded data removed]",
      "text/plain": [
       "<Figure size 432x288 with 1 Axes>"
      ]
     },
     "metadata": {
      "needs_background": "light"
     },
     "output_type": "display_data"
    },
    {
     "name": "stdout",
     "output_type": "stream",
     "text": [
      "annual_inc\n"
     ]
    },
    {
     "data": {
      "image/png": "[encoded data removed]",
      "text/plain": [
       "<Figure size 432x288 with 1 Axes>"
      ]
     },
     "metadata": {
      "needs_background": "light"
     },
     "output_type": "display_data"
    },
    {
     "name": "stdout",
     "output_type": "stream",
     "text": [
      "dti\n"
     ]
    },
    {
     "data": {
      "image/png": "[encoded data removed]",
      "text/plain": [
       "<Figure size 432x288 with 1 Axes>"
      ]
     },
     "metadata": {
      "needs_background": "light"
     },
     "output_type": "display_data"
    },
    {
     "name": "stdout",
     "output_type": "stream",
     "text": [
      "delinq_2yrs\n"
     ]
    },
    {
     "data": {
      "image/png": "[encoded data removed]",
      "text/plain": [
       "<Figure size 432x288 with 1 Axes>"
      ]
     },
     "metadata": {
      "needs_background": "light"
     },
     "output_type": "display_data"
    },
    {
     "name": "stdout",
     "output_type": "stream",
     "text": [
      "open_acc\n"
     ]
    },
    {
     "data": {
      "image/png": "[encoded data removed]",
      "text/plain": [
       "<Figure size 432x288 with 1 Axes>"
      ]
     },
     "metadata": {
      "needs_background": "light"
     },
     "output_type": "display_data"
    },
    {
     "name": "stdout",
     "output_type": "stream",
     "text": [
      "pub_rec\n"
     ]
    },
    {
     "data": {
      "image/png": "[encoded data removed]",
      "text/plain": [
       "<Figure size 432x288 with 1 Axes>"
      ]
     },
     "metadata": {
      "needs_background": "light"
     },
     "output_type": "display_data"
    },
    {
     "name": "stdout",
     "output_type": "stream",
     "text": [
      "fico_range_high\n"
     ]
    },
    {
     "data": {
      "image/png": "[encoded data removed]",
      "text/plain": [
       "<Figure size 432x288 with 1 Axes>"
      ]
     },
     "metadata": {
      "needs_background": "light"
     },
     "output_type": "display_data"
    },
    {
     "name": "stdout",
     "output_type": "stream",
     "text": [
      "fico_range_low\n"
     ]
    },
    {
     "data": {
      "image/png": "[encoded data removed]",
      "text/plain": [
       "<Figure size 432x288 with 1 Axes>"
      ]
     },
     "metadata": {
      "needs_background": "light"
     },
     "output_type": "display_data"
    },
    {
     "name": "stdout",
     "output_type": "stream",
     "text": [
      "revol_bal\n"
     ]
    },
    {
     "data": {
      "image/png": "[encoded data removed]",
      "text/plain": [
       "<Figure size 432x288 with 1 Axes>"
      ]
     },
     "metadata": {
      "needs_background": "light"
     },
     "output_type": "display_data"
    },
    {
     "name": "stdout",
     "output_type": "stream",
     "text": [
      "total_pymnt\n"
     ]
    },
    {
     "data": {
      "image/png": "[encoded data removed]",
      "text/plain": [
       "<Figure size 432x288 with 1 Axes>"
      ]
     },
     "metadata": {
      "needs_background": "light"
     },
     "output_type": "display_data"
    },
    {
     "name": "stdout",
     "output_type": "stream",
     "text": [
      "recoveries\n"
     ]
    },
    {
     "data": {
      "image/png": "[encoded data removed]",
      "text/plain": [
       "<Figure size 432x288 with 1 Axes>"
      ]
     },
     "metadata": {
      "needs_background": "light"
     },
     "output_type": "display_data"
    },
    {
     "name": "stdout",
     "output_type": "stream",
     "text": [
      "int_rate\n"
     ]
    },
    {
     "data": {
      "image/png": "[encoded data removed]",
      "text/plain": [
       "<Figure size 432x288 with 1 Axes>"
      ]
     },
     "metadata": {
      "needs_background": "light"
     },
     "output_type": "display_data"
    },
    {
     "name": "stdout",
     "output_type": "stream",
     "text": [
      "revol_util\n"
     ]
    },
    {
     "data": {
      "image/png": "[encoded data removed]",
      "text/plain": [
       "<Figure size 432x288 with 1 Axes>"
      ]
     },
     "metadata": {
      "needs_background": "light"
     },
     "output_type": "display_data"
    },
    {
     "name": "stdout",
     "output_type": "stream",
     "text": [
      "ret_PESS\n"
     ]
    },
    {
     "data": {
      "image/png": "[encoded data removed]",
      "text/plain": [
       "<Figure size 432x288 with 1 Axes>"
      ]
     },
     "metadata": {
      "needs_background": "light"
     },
     "output_type": "display_data"
    },
    {
     "name": "stdout",
     "output_type": "stream",
     "text": [
      "ret_OPT\n"
     ]
    },
    {
     "data": {
      "image/png": "[encoded data removed]",
      "text/plain": [
       "<Figure size 432x288 with 1 Axes>"
      ]
     },
     "metadata": {
      "needs_background": "light"
     },
     "output_type": "display_data"
    },
    {
     "name": "stdout",
     "output_type": "stream",
     "text": [
      "ret_INTa\n"
     ]
    },
    {
     "data": {
      "image/png": "[encoded data removed]",
      "text/plain": [
       "<Figure size 432x288 with 1 Axes>"
      ]
     },
     "metadata": {
      "needs_background": "light"
     },
     "output_type": "display_data"
    },
    {
     "name": "stdout",
     "output_type": "stream",
     "text": [
      "ret_INTb\n"
     ]
    },
    {
     "data": {
      "image/png": "[encoded data removed]",
      "text/plain": [
       "<Figure size 432x288 with 1 Axes>"
      ]
     },
     "metadata": {
      "needs_background": "light"
     },
     "output_type": "display_data"
    },
    {
     "name": "stdout",
     "output_type": "stream",
     "text": [
      "term\n",
      "Number Distinct Values:  2\n",
      " 36 months :  1259267\n",
      " 60 months :  498153\n",
      "\n",
      "\n",
      "grade\n",
      "Number Distinct Values:  7\n",
      "B :  520242\n",
      "C :  520840\n",
      "A :  296891\n",
      "E :  115865\n",
      "F :  38291\n",
      "D :  253978\n",
      "G :  11313\n",
      "\n",
      "\n",
      "emp_length\n",
      "Number Distinct Values:  12\n",
      "10+ years :  585004\n",
      "< 1 year :  145711\n",
      "1 year :  114697\n",
      "3 years :  139460\n",
      "8 years :  75562\n",
      "9 years :  66460\n",
      "4 years :  104876\n",
      "5 years :  108317\n",
      "6 years :  80332\n",
      "2 years :  158224\n",
      "7 years :  74401\n",
      "nan :  104376\n",
      "\n",
      "\n",
      "home_ownership\n",
      "Number Distinct Values:  6\n",
      "RENT :  696340\n",
      "OWN :  191584\n",
      "MORTGAGE :  868757\n",
      "OTHER :  182\n",
      "NONE :  54\n",
      "ANY :  503\n",
      "\n",
      "\n",
      "verification_status\n",
      "Number Distinct Values:  3\n",
      "Verified :  528423\n",
      "Source Verified :  667628\n",
      "Not Verified :  561369\n",
      "\n",
      "\n",
      "loan_status\n",
      "Number Distinct Values:  9\n",
      "Fully Paid :  736866\n",
      "Charged Off :  190246\n",
      "Does not meet the credit policy. Status:Fully Paid :  1988\n",
      "Does not meet the credit policy. Status:Charged Off :  749\n",
      "Current :  792304\n",
      "In Grace Period :  8753\n",
      "Late (31-120 days) :  20365\n",
      "Late (16-30 days) :  5758\n",
      "Default :  391\n",
      "\n",
      "\n",
      "purpose\n",
      "Number Distinct Values:  14\n",
      "credit_card :  388030\n",
      "car :  18822\n",
      "small_business :  19992\n",
      "other :  103498\n",
      "wedding :  2338\n",
      "debt_consolidation :  1014350\n",
      "home_improvement :  117022\n",
      "major_purchase :  38438\n",
      "medical :  20667\n",
      "moving :  12185\n",
      "vacation :  11943\n",
      "house :  8561\n",
      "renewable_energy :  1153\n",
      "educational :  421\n",
      "\n",
      "\n"
     ]
    },
    {
     "data": {
      "image/png": "[encoded data removed]",
      "text/plain": [
       "<Figure size 432x288 with 1 Axes>"
      ]
     },
     "metadata": {
      "needs_background": "light"
     },
     "output_type": "display_data"
    },
    {
     "data": {
      "image/png": "[encoded data removed]",
      "text/plain": [
       "<Figure size 432x288 with 1 Axes>"
      ]
     },
     "metadata": {
      "needs_background": "light"
     },
     "output_type": "display_data"
    },
    {
     "data": {
      "image/png": "[encoded data removed]",
      "text/plain": [
       "<Figure size 432x288 with 1 Axes>"
      ]
     },
     "metadata": {
      "needs_background": "light"
     },
     "output_type": "display_data"
    }
   ],
   "source": [
    "# visualize continuous features\n",
    "visualize_float_columns(final_data)\n",
    "\n",
    "# visulaize categorical features\n",
    "visualize_cat_columns(final_data)\n",
    "\n",
    "# visualize date columns\n",
    "visualize_date_columns(final_data)"
   ]
  },
  {
   "cell_type": "markdown",
   "metadata": {},
   "source": [
    "### Handle outliers"
   ]
  },
  {
   "cell_type": "code",
   "execution_count": 30,
   "metadata": {},
   "outputs": [],
   "source": [
    "#I want to try and do this using a hat matrix rather than doing feature by feature.  \n",
    "#let's see how it turns out!\n",
    "\n",
    "#Don't run this code! will take forever and not finish.\n",
    "\n",
    "# hat_m = final_data(np.linalg.inv(final_data.T.dot(final_data)).dot(final_data.T))\n",
    "# hat_v = np.sum(hat_m **2,0)\n",
    "\n",
    "# plt.scatter(range(len(hat_v)), hat_v, s=1000*hat_v, alpha=0.6)"
   ]
  },
  {
   "cell_type": "code",
   "execution_count": 31,
   "metadata": {},
   "outputs": [
    {
     "data": {
      "text/plain": [
       "(1757420, 32)"
      ]
     },
     "execution_count": 31,
     "metadata": {},
     "output_type": "execute_result"
    }
   ],
   "source": [
    "final_data.shape"
   ]
  },
  {
   "cell_type": "code",
   "execution_count": 32,
   "metadata": {},
   "outputs": [
    {
     "name": "stdout",
     "output_type": "stream",
     "text": [
      "max:  892.3\n",
      "mean:  52.189029546412826\n",
      "Cutoff:  182.0\n"
     ]
    },
    {
     "data": {
      "text/plain": [
       "<matplotlib.axes._subplots.AxesSubplot at 0x23b2129b5f8>"
      ]
     },
     "execution_count": 32,
     "metadata": {},
     "output_type": "execute_result"
    },
    {
     "data": {
      "image/png": "[encoded data removed]",
      "text/plain": [
       "<Figure size 432x288 with 1 Axes>"
      ]
     },
     "metadata": {
      "needs_background": "light"
     },
     "output_type": "display_data"
    }
   ],
   "source": [
    "print(\"max: \",final_data['revol_util'].max())\n",
    "print(\"mean: \", final_data['revol_util'].mean())\n",
    "IQR = (final_data['revol_util'].quantile([.75]).loc[.75] - \n",
    "           final_data['revol_util'].quantile([.25]).loc[.25])\n",
    "print(\"Cutoff: \",final_data['revol_util'].quantile([.75]).loc[.75]+3*IQR )\n",
    "seaborn.boxplot(final_data['revol_util'])"
   ]
  },
  {
   "cell_type": "code",
   "execution_count": 33,
   "metadata": {},
   "outputs": [
    {
     "name": "stdout",
     "output_type": "stream",
     "text": [
      "Removed 76310 rows\n"
     ]
    }
   ],
   "source": [
    "# There are quite a few outliers. \n",
    "# Please identify top-k (decide this based on the visualization) features where outliers are most obvious\n",
    "n_rows = len(final_data)\n",
    "\n",
    "#features that have some major outliers: annual_inc, dti, revol_bal,\n",
    "#deling_2yrs, open_acc, pub_rec, revol_util \n",
    "\n",
    "#Basing on 3*IQR*75% percentile as cutoff point\n",
    "\n",
    "final_data_2 = final_data[final_data['annual_inc']<230_000] #28404 rows removed \n",
    "final_data_2 = final_data_2[final_data_2['dti']<62] #31926 (total) rows removed\n",
    "final_data_2 = final_data_2[final_data_2['revol_bal']<63050] #65512 (total) rows removed\n",
    "final_data_2 = final_data_2[final_data_2['delinq_2yrs']<10] #66943 (total) rows removed\n",
    "final_data_2 = final_data_2[final_data_2['delinq_2yrs']<10] #66943 (total) rows removed\n",
    "final_data_2 = final_data_2[final_data_2['open_acc']<=32] #75050 (total) rows removed\n",
    "final_data_2 = final_data_2[final_data_2['pub_rec']<=10] #75237 (total) rows removed\n",
    "final_data_2 = final_data_2[final_data_2['revol_util']<=182] #76310 (total) rows removed\n",
    "\n",
    "\n",
    "\n",
    "print(\"Removed \" + str(n_rows - len(final_data_2)) + \" rows\")"
   ]
  },
  {
   "cell_type": "code",
   "execution_count": 34,
   "metadata": {},
   "outputs": [
    {
     "name": "stdout",
     "output_type": "stream",
     "text": [
      "max:  180.3\n",
      "mean:  51.963048188400975\n",
      "Cutoff:  181.0\n"
     ]
    },
    {
     "data": {
      "text/plain": [
       "<matplotlib.axes._subplots.AxesSubplot at 0x23b2208ee48>"
      ]
     },
     "execution_count": 34,
     "metadata": {},
     "output_type": "execute_result"
    },
    {
     "data": {
      "image/png": "[encoded data removed]",
      "text/plain": [
       "<Figure size 432x288 with 1 Axes>"
      ]
     },
     "metadata": {
      "needs_background": "light"
     },
     "output_type": "display_data"
    }
   ],
   "source": [
    "print(\"max: \",final_data_2['revol_util'].max())\n",
    "print(\"mean: \", final_data_2['revol_util'].mean())\n",
    "IQR = (final_data_2['revol_util'].quantile([.75]).loc[.75] - \n",
    "           final_data_2['revol_util'].quantile([.25]).loc[.25])\n",
    "print(\"Cutoff: \",final_data_2['revol_util'].quantile([.75]).loc[.75]+3*IQR )\n",
    "seaborn.boxplot(final_data_2['revol_util'])"
   ]
  },
  {
   "cell_type": "code",
   "execution_count": 35,
   "metadata": {},
   "outputs": [
    {
     "data": {
      "text/plain": [
       "Counter({'Fully Paid': 708632,\n",
       "         'Charged Off': 184457,\n",
       "         'Does not meet the credit policy. Status:Fully Paid': 1713,\n",
       "         'Does not meet the credit policy. Status:Charged Off': 660,\n",
       "         'Current': 751927,\n",
       "         'In Grace Period': 8293,\n",
       "         'Late (31-120 days)': 19601,\n",
       "         'Late (16-30 days)': 5448,\n",
       "         'Default': 379})"
      ]
     },
     "execution_count": 35,
     "metadata": {},
     "output_type": "execute_result"
    }
   ],
   "source": [
    "Counter(final_data_2['loan_status'])"
   ]
  },
  {
   "cell_type": "code",
   "execution_count": 36,
   "metadata": {},
   "outputs": [
    {
     "name": "stdout",
     "output_type": "stream",
     "text": [
      "Removed 751927 rows\n"
     ]
    }
   ],
   "source": [
    "# Remove all loans that are still current\n",
    "n_rows = len(final_data_2)\n",
    "\n",
    "final_data_2 = final_data_2[~(final_data_2['loan_status']=='Current')]\n",
    "\n",
    "print(\"Removed \" + str(n_rows - len(final_data_2)) + \" rows\")"
   ]
  },
  {
   "cell_type": "code",
   "execution_count": 37,
   "metadata": {},
   "outputs": [
    {
     "name": "stdout",
     "output_type": "stream",
     "text": [
      "Removed 8371 rows\n"
     ]
    }
   ],
   "source": [
    "# Only include loans isssued since 2010\n",
    "n_rows = len(final_data_2)\n",
    "\n",
    "final_data_2 = final_data_2[final_data_2['issue_d']>datetime.date(2010, 1, 1)]\n",
    "\n",
    "print(\"Removed \" + str(n_rows - len(final_data_2)) + \" rows\")"
   ]
  },
  {
   "cell_type": "markdown",
   "metadata": {},
   "source": [
    "### Drop null values"
   ]
  },
  {
   "cell_type": "code",
   "execution_count": 38,
   "metadata": {},
   "outputs": [
    {
     "name": "stdout",
     "output_type": "stream",
     "text": [
      "Removed 0 rows\n"
     ]
    }
   ],
   "source": [
    "# Deal with null values. We allow cateogrical variables to be null\n",
    "# OTHER than grade, which is a particularly important categorical.\n",
    "# All non-categorical variables must be non-null, and we drop\n",
    "# rows that do not meet this requirement\n",
    "\n",
    "required_cols = set(cols_to_pick) - set(cat_cols) - set([\"id\"])\n",
    "required_cols.add(\"grade\")\n",
    "\n",
    "n_rows = len(final_data_2)\n",
    "    \n",
    "# drop rows that contain null based only on \"required_cols\"\n",
    "final_data_2 = final_data_2.dropna(subset=required_cols)\n",
    "\n",
    "print(\"Removed \" + str(n_rows - len(final_data_2)) + \" rows\")\n",
    "#Note: not sure why this is zero... seems like we don't have any nulls tho."
   ]
  },
  {
   "cell_type": "markdown",
   "metadata": {},
   "source": [
    "### Visualize clean data"
   ]
  },
  {
   "cell_type": "code",
   "execution_count": 39,
   "metadata": {},
   "outputs": [
    {
     "name": "stdout",
     "output_type": "stream",
     "text": [
      "loan_amnt\n"
     ]
    },
    {
     "data": {
      "image/png": "[encoded data removed]",
      "text/plain": [
       "<Figure size 432x288 with 1 Axes>"
      ]
     },
     "metadata": {
      "needs_background": "light"
     },
     "output_type": "display_data"
    },
    {
     "name": "stdout",
     "output_type": "stream",
     "text": [
      "funded_amnt\n"
     ]
    },
    {
     "data": {
      "image/png": "[encoded data removed]",
      "text/plain": [
       "<Figure size 432x288 with 1 Axes>"
      ]
     },
     "metadata": {
      "needs_background": "light"
     },
     "output_type": "display_data"
    },
    {
     "name": "stdout",
     "output_type": "stream",
     "text": [
      "installment\n"
     ]
    },
    {
     "data": {
      "image/png": "[encoded data removed]",
      "text/plain": [
       "<Figure size 432x288 with 1 Axes>"
      ]
     },
     "metadata": {
      "needs_background": "light"
     },
     "output_type": "display_data"
    },
    {
     "name": "stdout",
     "output_type": "stream",
     "text": [
      "annual_inc\n"
     ]
    },
    {
     "data": {
      "image/png": "[encoded data removed]",
      "text/plain": [
       "<Figure size 432x288 with 1 Axes>"
      ]
     },
     "metadata": {
      "needs_background": "light"
     },
     "output_type": "display_data"
    },
    {
     "name": "stdout",
     "output_type": "stream",
     "text": [
      "dti\n"
     ]
    },
    {
     "data": {
      "image/png": "[encoded data removed]",
      "text/plain": [
       "<Figure size 432x288 with 1 Axes>"
      ]
     },
     "metadata": {
      "needs_background": "light"
     },
     "output_type": "display_data"
    },
    {
     "name": "stdout",
     "output_type": "stream",
     "text": [
      "delinq_2yrs\n"
     ]
    },
    {
     "data": {
      "image/png": "[encoded data removed]",
      "text/plain": [
       "<Figure size 432x288 with 1 Axes>"
      ]
     },
     "metadata": {
      "needs_background": "light"
     },
     "output_type": "display_data"
    },
    {
     "name": "stdout",
     "output_type": "stream",
     "text": [
      "open_acc\n"
     ]
    },
    {
     "data": {
      "image/png": "[encoded data removed]",
      "text/plain": [
       "<Figure size 432x288 with 1 Axes>"
      ]
     },
     "metadata": {
      "needs_background": "light"
     },
     "output_type": "display_data"
    },
    {
     "name": "stdout",
     "output_type": "stream",
     "text": [
      "pub_rec\n"
     ]
    },
    {
     "data": {
      "image/png": "[encoded data removed]",
      "text/plain": [
       "<Figure size 432x288 with 1 Axes>"
      ]
     },
     "metadata": {
      "needs_background": "light"
     },
     "output_type": "display_data"
    },
    {
     "name": "stdout",
     "output_type": "stream",
     "text": [
      "fico_range_high\n"
     ]
    },
    {
     "data": {
      "image/png": "[encoded data removed]",
      "text/plain": [
       "<Figure size 432x288 with 1 Axes>"
      ]
     },
     "metadata": {
      "needs_background": "light"
     },
     "output_type": "display_data"
    },
    {
     "name": "stdout",
     "output_type": "stream",
     "text": [
      "fico_range_low\n"
     ]
    },
    {
     "data": {
      "image/png": "[encoded data removed]",
      "text/plain": [
       "<Figure size 432x288 with 1 Axes>"
      ]
     },
     "metadata": {
      "needs_background": "light"
     },
     "output_type": "display_data"
    },
    {
     "name": "stdout",
     "output_type": "stream",
     "text": [
      "revol_bal\n"
     ]
    },
    {
     "data": {
      "image/png": "[encoded data removed]",
      "text/plain": [
       "<Figure size 432x288 with 1 Axes>"
      ]
     },
     "metadata": {
      "needs_background": "light"
     },
     "output_type": "display_data"
    },
    {
     "name": "stdout",
     "output_type": "stream",
     "text": [
      "total_pymnt\n"
     ]
    },
    {
     "data": {
      "image/png": "[encoded data removed]",
      "text/plain": [
       "<Figure size 432x288 with 1 Axes>"
      ]
     },
     "metadata": {
      "needs_background": "light"
     },
     "output_type": "display_data"
    },
    {
     "name": "stdout",
     "output_type": "stream",
     "text": [
      "recoveries\n"
     ]
    },
    {
     "data": {
      "image/png": "[encoded data removed]",
      "text/plain": [
       "<Figure size 432x288 with 1 Axes>"
      ]
     },
     "metadata": {
      "needs_background": "light"
     },
     "output_type": "display_data"
    },
    {
     "name": "stdout",
     "output_type": "stream",
     "text": [
      "int_rate\n"
     ]
    },
    {
     "data": {
      "image/png": "[encoded data removed]",
      "text/plain": [
       "<Figure size 432x288 with 1 Axes>"
      ]
     },
     "metadata": {
      "needs_background": "light"
     },
     "output_type": "display_data"
    },
    {
     "name": "stdout",
     "output_type": "stream",
     "text": [
      "revol_util\n"
     ]
    },
    {
     "data": {
      "image/png": "[encoded data removed]",
      "text/plain": [
       "<Figure size 432x288 with 1 Axes>"
      ]
     },
     "metadata": {
      "needs_background": "light"
     },
     "output_type": "display_data"
    },
    {
     "name": "stdout",
     "output_type": "stream",
     "text": [
      "ret_PESS\n"
     ]
    },
    {
     "data": {
      "image/png": "[encoded data removed]",
      "text/plain": [
       "<Figure size 432x288 with 1 Axes>"
      ]
     },
     "metadata": {
      "needs_background": "light"
     },
     "output_type": "display_data"
    },
    {
     "name": "stdout",
     "output_type": "stream",
     "text": [
      "ret_OPT\n"
     ]
    },
    {
     "data": {
      "image/png": "[encoded data removed]",
      "text/plain": [
       "<Figure size 432x288 with 1 Axes>"
      ]
     },
     "metadata": {
      "needs_background": "light"
     },
     "output_type": "display_data"
    },
    {
     "name": "stdout",
     "output_type": "stream",
     "text": [
      "ret_INTa\n"
     ]
    },
    {
     "data": {
      "image/png": "[encoded data removed]",
      "text/plain": [
       "<Figure size 432x288 with 1 Axes>"
      ]
     },
     "metadata": {
      "needs_background": "light"
     },
     "output_type": "display_data"
    },
    {
     "name": "stdout",
     "output_type": "stream",
     "text": [
      "ret_INTb\n"
     ]
    },
    {
     "data": {
      "image/png": "[encoded data removed]",
      "text/plain": [
       "<Figure size 432x288 with 1 Axes>"
      ]
     },
     "metadata": {
      "needs_background": "light"
     },
     "output_type": "display_data"
    },
    {
     "name": "stdout",
     "output_type": "stream",
     "text": [
      "term\n",
      "Number Distinct Values:  2\n",
      " 36 months :  694161\n",
      " 60 months :  226651\n",
      "\n",
      "\n",
      "grade\n",
      "Number Distinct Values:  7\n",
      "B :  263380\n",
      "C :  260883\n",
      "A :  146894\n",
      "E :  71696\n",
      "F :  25773\n",
      "D :  145167\n",
      "G :  7019\n",
      "\n",
      "\n",
      "emp_length\n",
      "Number Distinct Values:  12\n",
      "10+ years :  298073\n",
      "< 1 year :  73136\n",
      "1 year :  60547\n",
      "3 years :  73732\n",
      "8 years :  43430\n",
      "9 years :  35804\n",
      "4 years :  55310\n",
      "5 years :  58543\n",
      "6 years :  44833\n",
      "2 years :  83531\n",
      "7 years :  43398\n",
      "nan :  50475\n",
      "\n",
      "\n",
      "home_ownership\n",
      "Number Distinct Values:  6\n",
      "RENT :  376051\n",
      "OWN :  94174\n",
      "MORTGAGE :  450364\n",
      "OTHER :  46\n",
      "NONE :  43\n",
      "ANY :  134\n",
      "\n",
      "\n",
      "verification_status\n",
      "Number Distinct Values:  3\n",
      "Verified :  298603\n",
      "Source Verified :  339053\n",
      "Not Verified :  283156\n",
      "\n",
      "\n",
      "loan_status\n",
      "Number Distinct Values:  8\n",
      "Fully Paid :  702717\n",
      "Charged Off :  183552\n",
      "Does not meet the credit policy. Status:Fully Paid :  591\n",
      "Does not meet the credit policy. Status:Charged Off :  231\n",
      "In Grace Period :  8293\n",
      "Late (31-120 days) :  19601\n",
      "Late (16-30 days) :  5448\n",
      "Default :  379\n",
      "\n",
      "\n",
      "purpose\n",
      "Number Distinct Values:  14\n",
      "credit_card :  197873\n",
      "car :  9775\n",
      "small_business :  10684\n",
      "other :  49878\n",
      "wedding :  2058\n",
      "debt_consolidation :  547143\n",
      "home_improvement :  56316\n",
      "major_purchase :  19442\n",
      "medical :  9951\n",
      "moving :  6515\n",
      "vacation :  5974\n",
      "house :  4454\n",
      "renewable_energy :  657\n",
      "educational :  92\n",
      "\n",
      "\n"
     ]
    },
    {
     "data": {
      "image/png": "[encoded data removed]",
      "text/plain": [
       "<Figure size 432x288 with 1 Axes>"
      ]
     },
     "metadata": {
      "needs_background": "light"
     },
     "output_type": "display_data"
    },
    {
     "data": {
      "image/png": "[encoded data removed]",
      "text/plain": [
       "<Figure size 432x288 with 1 Axes>"
      ]
     },
     "metadata": {
      "needs_background": "light"
     },
     "output_type": "display_data"
    },
    {
     "data": {
      "image/png": "[encoded data removed]",
      "text/plain": [
       "<Figure size 432x288 with 1 Axes>"
      ]
     },
     "metadata": {
      "needs_background": "light"
     },
     "output_type": "display_data"
    }
   ],
   "source": [
    "# Visualize the data again after cleaning\n",
    "# visualize continuous features\n",
    "visualize_float_columns(final_data_2)\n",
    "\n",
    "# visulaize categorical features\n",
    "visualize_cat_columns(final_data_2)\n",
    "\n",
    "# visualize date columns\n",
    "visualize_date_columns(final_data_2)"
   ]
  },
  {
   "cell_type": "code",
   "execution_count": 40,
   "metadata": {},
   "outputs": [],
   "source": [
    "#Note: the 2 cells below take forever/don't complete.. not sure why.  Maybe due to cols_to_pick"
   ]
  },
  {
   "cell_type": "code",
   "execution_count": null,
   "metadata": {},
   "outputs": [],
   "source": [
    "# Visualize the feature correlations\n",
    "# use sns scatter or pairplot\n",
    "import seaborn as sns\n",
    "g = sns.pairplot(data=final_data_2, vars=cols_to_pick,\n",
    "            diag_kind=None)# , plot_kws={'scatter_kws': {'alpha': 0.3}})\n",
    "g.set(alpha=0.1)\n",
    "plt.show()"
   ]
  },
  {
   "cell_type": "code",
   "execution_count": null,
   "metadata": {
    "collapsed": true
   },
   "outputs": [],
   "source": [
    "# Visualize relation between loan status and features\n",
    "# sns pairplot or scatter plot. Refer to recitations\n",
    "sns.pairplot(data=final_data_2, x_vars=cols_to_pick, y_vars='loan_status')"
   ]
  },
  {
   "cell_type": "markdown",
   "metadata": {},
   "source": [
    "What do you observe after removing the outliers?"
   ]
  },
  {
   "cell_type": "markdown",
   "metadata": {},
   "source": [
    "Answer: Naturally, the boxplots are a lot more normal looking as I removed any points > 3x the IQR."
   ]
  },
  {
   "cell_type": "markdown",
   "metadata": {},
   "source": [
    "### Data Exploration\n",
    "Solution to Q.7 from the handout"
   ]
  },
  {
   "cell_type": "code",
   "execution_count": 70,
   "metadata": {},
   "outputs": [
    {
     "data": {
      "text/plain": [
       "A    0.033974\n",
       "B    0.034423\n",
       "C    0.027195\n",
       "D    0.023538\n",
       "E    0.017144\n",
       "F    0.014056\n",
       "G    0.001144\n",
       "dtype: float64"
      ]
     },
     "execution_count": 70,
     "metadata": {},
     "output_type": "execute_result"
    }
   ],
   "source": [
    "lst = [ret_by_grade_OPT, ret_by_grade_PESS, ret_by_grade_INTa, ret_by_grade_INTb]\n",
    "combined_rates = pd.DataFrame(lst)\n",
    "combined_rates\n",
    "out = [combined_rates[x].mean() for x in combined_rates.columns.values]\n",
    "outLabels = combined_rates.columns.values\n",
    "out = pd.Series(out, outLabels)\n",
    "out"
   ]
  },
  {
   "cell_type": "code",
   "execution_count": 61,
   "metadata": {},
   "outputs": [
    {
     "data": {
      "text/plain": [
       "grade\n",
       "A    0.036266\n",
       "B    0.044940\n",
       "C    0.045524\n",
       "D    0.047832\n",
       "E    0.049539\n",
       "F    0.054053\n",
       "G    0.048185\n",
       "Name: ret_OPT, dtype: float64"
      ]
     },
     "execution_count": 61,
     "metadata": {},
     "output_type": "execute_result"
    }
   ],
   "source": [
    "ret_by_grade_OPT"
   ]
  },
  {
   "cell_type": "code",
   "execution_count": 71,
   "metadata": {},
   "outputs": [
    {
     "data": {
      "text/html": [
       "<div>\n",
       "<style scoped>\n",
       "    .dataframe tbody tr th:only-of-type {\n",
       "        vertical-align: middle;\n",
       "    }\n",
       "\n",
       "    .dataframe tbody tr th {\n",
       "        vertical-align: top;\n",
       "    }\n",
       "\n",
       "    .dataframe thead th {\n",
       "        text-align: right;\n",
       "    }\n",
       "</style>\n",
       "<table border=\"1\" class=\"dataframe\">\n",
       "  <thead>\n",
       "    <tr style=\"text-align: right;\">\n",
       "      <th></th>\n",
       "      <th>perc_of_loans</th>\n",
       "      <th>perc_default</th>\n",
       "      <th>avg_int_rate</th>\n",
       "      <th>return_OPT</th>\n",
       "      <th>return_PESS</th>\n",
       "      <th>return_INTa</th>\n",
       "      <th>return_INTb</th>\n",
       "    </tr>\n",
       "  </thead>\n",
       "  <tbody>\n",
       "    <tr>\n",
       "      <th>A</th>\n",
       "      <td>15.952659</td>\n",
       "      <td>7.542854</td>\n",
       "      <td>0.033974</td>\n",
       "      <td>0.036266</td>\n",
       "      <td>0.014392</td>\n",
       "      <td>0.019220</td>\n",
       "      <td>0.066020</td>\n",
       "    </tr>\n",
       "    <tr>\n",
       "      <th>B</th>\n",
       "      <td>28.603016</td>\n",
       "      <td>15.871365</td>\n",
       "      <td>0.034423</td>\n",
       "      <td>0.044940</td>\n",
       "      <td>0.011624</td>\n",
       "      <td>0.017365</td>\n",
       "      <td>0.063763</td>\n",
       "    </tr>\n",
       "    <tr>\n",
       "      <th>C</th>\n",
       "      <td>28.331842</td>\n",
       "      <td>26.145820</td>\n",
       "      <td>0.027195</td>\n",
       "      <td>0.045524</td>\n",
       "      <td>-0.000006</td>\n",
       "      <td>0.009219</td>\n",
       "      <td>0.054044</td>\n",
       "    </tr>\n",
       "    <tr>\n",
       "      <th>D</th>\n",
       "      <td>15.765107</td>\n",
       "      <td>34.299118</td>\n",
       "      <td>0.023538</td>\n",
       "      <td>0.047832</td>\n",
       "      <td>-0.005723</td>\n",
       "      <td>0.004338</td>\n",
       "      <td>0.047704</td>\n",
       "    </tr>\n",
       "    <tr>\n",
       "      <th>E</th>\n",
       "      <td>7.786171</td>\n",
       "      <td>42.917318</td>\n",
       "      <td>0.017144</td>\n",
       "      <td>0.049539</td>\n",
       "      <td>-0.014714</td>\n",
       "      <td>-0.003769</td>\n",
       "      <td>0.037519</td>\n",
       "    </tr>\n",
       "    <tr>\n",
       "      <th>F</th>\n",
       "      <td>2.798943</td>\n",
       "      <td>49.012532</td>\n",
       "      <td>0.014056</td>\n",
       "      <td>0.054053</td>\n",
       "      <td>-0.019375</td>\n",
       "      <td>-0.009145</td>\n",
       "      <td>0.030692</td>\n",
       "    </tr>\n",
       "    <tr>\n",
       "      <th>G</th>\n",
       "      <td>0.762262</td>\n",
       "      <td>54.281237</td>\n",
       "      <td>0.001144</td>\n",
       "      <td>0.048185</td>\n",
       "      <td>-0.035448</td>\n",
       "      <td>-0.022919</td>\n",
       "      <td>0.014757</td>\n",
       "    </tr>\n",
       "  </tbody>\n",
       "</table>\n",
       "</div>"
      ],
      "text/plain": [
       "   perc_of_loans  perc_default  avg_int_rate  return_OPT  return_PESS  \\\n",
       "A      15.952659      7.542854      0.033974    0.036266     0.014392   \n",
       "B      28.603016     15.871365      0.034423    0.044940     0.011624   \n",
       "C      28.331842     26.145820      0.027195    0.045524    -0.000006   \n",
       "D      15.765107     34.299118      0.023538    0.047832    -0.005723   \n",
       "E       7.786171     42.917318      0.017144    0.049539    -0.014714   \n",
       "F       2.798943     49.012532      0.014056    0.054053    -0.019375   \n",
       "G       0.762262     54.281237      0.001144    0.048185    -0.035448   \n",
       "\n",
       "   return_INTa  return_INTb  \n",
       "A     0.019220     0.066020  \n",
       "B     0.017365     0.063763  \n",
       "C     0.009219     0.054044  \n",
       "D     0.004338     0.047704  \n",
       "E    -0.003769     0.037519  \n",
       "F    -0.009145     0.030692  \n",
       "G    -0.022919     0.014757  "
      ]
     },
     "execution_count": 71,
     "metadata": {},
     "output_type": "execute_result"
    }
   ],
   "source": [
    "# Find the percentage of loans by grade, the default by grade,\n",
    "# and the return of each grade\n",
    "perc_by_grade = (final_data_2.grade.value_counts()*100/len(final_data_2)).sort_index()\n",
    "\n",
    "default_by_grade = final_data_2.groupby(\"grade\").apply(lambda x : (x.loan_status != \"Fully Paid\").sum()*100/len(x) )\n",
    "ret_by_grade_OPT = final_data_2.groupby('grade').ret_OPT.mean() # average return for M2-Optimistic for each loan grade\n",
    "ret_by_grade_PESS = final_data_2.groupby('grade').ret_PESS.mean() # average return for M1-Pessimistic for each loan grade\n",
    "ret_by_grade_INTa = final_data_2.groupby('grade').ret_INTa.mean() # average return for M3\n",
    "ret_by_grade_INTb = final_data_2.groupby('grade').ret_INTb.mean() # average return for M3\n",
    "\n",
    "lst = [ret_by_grade_OPT, ret_by_grade_PESS, ret_by_grade_INTa, ret_by_grade_INTb]\n",
    "combined_rates = pd.DataFrame(lst)\n",
    "combined_rates\n",
    "int_rate_by_grade = [combined_rates[x].mean() for x in combined_rates.columns.values]\n",
    "outLabels = combined_rates.columns.values\n",
    "int_rate_by_grade = pd.Series(int_rate_by_grade, outLabels)\n",
    "#int_rate_by_grade = ... # average interest rate for each grade\n",
    "\n",
    "combined = pd.DataFrame(perc_by_grade)\n",
    "combined.columns = ['perc_of_loans']\n",
    "combined['perc_default'] = default_by_grade\n",
    "combined['avg_int_rate'] = int_rate_by_grade\n",
    "combined['return_OPT'] = ret_by_grade_OPT\n",
    "combined['return_PESS'] = ret_by_grade_PESS\n",
    "combined['return_INTa'] = ret_by_grade_INTa\n",
    "combined['return_INTb'] = ret_by_grade_INTb\n",
    "#combined['return_INTc'] = ret_by_grade_INTc #not sure why this exists?\n",
    "\n",
    "combined"
   ]
  },
  {
   "cell_type": "markdown",
   "metadata": {},
   "source": [
    "Based on the output of previous cell, write down your answers to Q.7 from the handout."
   ]
  },
  {
   "cell_type": "markdown",
   "metadata": {},
   "source": [
    "### Save a Pickle"
   ]
  },
  {
   "cell_type": "code",
   "execution_count": 87,
   "metadata": {},
   "outputs": [],
   "source": [
    "# Remove the \"total_pymnt\" and \"recoveries\" from the list of continuous features\n",
    "continuous_features.remove('total_pymnt')\n",
    "continuous_features.remove('recoveries')"
   ]
  },
  {
   "cell_type": "markdown",
   "metadata": {},
   "source": [
    "Why did we remove `total_pymt` and `recoveries` from the data for the task of predicting whether to give loan or not, although these are highly predictive features?"
   ]
  },
  {
   "cell_type": "markdown",
   "metadata": {},
   "source": [
    "We removed them because we will not have either of these features available to us as investors at the time we actually want to choose a loan to invest in.  They would only be available at the end of the loan."
   ]
  },
  {
   "cell_type": "code",
   "execution_count": 93,
   "metadata": {},
   "outputs": [],
   "source": [
    "# save the prepared data for modeling in next Phase.\n",
    "pickle.dump( [final_data, discrete_features, continuous_features, ret_cols], open(pickle_file, \"wb\") )\n",
    "#NOTE: this is a 500mb file and thus is not going to be uploaded to our github."
   ]
  }
 ],
 "metadata": {
  "kernelspec": {
   "display_name": "Python 3",
   "language": "python",
   "name": "python3"
  },
  "language_info": {
   "codemirror_mode": {
    "name": "ipython",
    "version": 3
   },
   "file_extension": ".py",
   "mimetype": "text/x-python",
   "name": "python",
   "nbconvert_exporter": "python",
   "pygments_lexer": "ipython3",
   "version": "3.7.2"
  }
 },
 "nbformat": 4,
 "nbformat_minor": 2
}
